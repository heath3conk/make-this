{
 "cells": [
  {
   "cell_type": "markdown",
   "metadata": {},
   "source": [
    "# Build first model(s)\n",
    "- explore Kaggle's \"pre-processed\" data to try it with some clustering models\n",
    "- see [eda_recipe_database](eda_recipe_database.ipynb) notebook for initial exploration of this data\n",
    "- I want to build a model that learns which ingredients tend to occur together\n",
    "- then use that model to predict an ingredient, given the presence of other ingredients\n",
    "\n",
    "## what's in thie notebook:\n",
    "- convert strings into real lists\n",
    "- dummify ingredient tokens\n",
    "- KMeans model\n",
    "- add cluster labels to raw recipes\n",
    "- more regex for getting data to lists\n",
    "- predict cluster for a new recipe\n",
    "    - fetch some recipes from the Edamam API\n",
    "    - map recipe ingredients to ingredient codes\n",
    "    - dummify ingredients & get prediction\n",
    "    - observations about the prediction\n"
   ]
  },
  {
   "cell_type": "code",
   "execution_count": 127,
   "metadata": {},
   "outputs": [],
   "source": [
    "import re\n",
    "import json\n",
    "import importlib\n",
    "\n",
    "import pandas as pd\n",
    "import numpy as np \n",
    "from sklearn.cluster import KMeans\n",
    "from sklearn.metrics import silhouette_score\n",
    "\n",
    "import get_recipes, modeling"
   ]
  },
  {
   "cell_type": "code",
   "execution_count": 2,
   "metadata": {},
   "outputs": [],
   "source": [
    "importlib.reload(get_recipes);"
   ]
  },
  {
   "cell_type": "markdown",
   "metadata": {},
   "source": [
    "---\n",
    "## pre-processed recipes\n",
    "- starting with the tokenized data from kaggle"
   ]
  },
  {
   "cell_type": "code",
   "execution_count": 3,
   "metadata": {},
   "outputs": [
    {
     "data": {
      "text/html": [
       "<div>\n",
       "<style scoped>\n",
       "    .dataframe tbody tr th:only-of-type {\n",
       "        vertical-align: middle;\n",
       "    }\n",
       "\n",
       "    .dataframe tbody tr th {\n",
       "        vertical-align: top;\n",
       "    }\n",
       "\n",
       "    .dataframe thead th {\n",
       "        text-align: right;\n",
       "    }\n",
       "</style>\n",
       "<table border=\"1\" class=\"dataframe\">\n",
       "  <thead>\n",
       "    <tr style=\"text-align: right;\">\n",
       "      <th></th>\n",
       "      <th>id</th>\n",
       "      <th>i</th>\n",
       "      <th>name_tokens</th>\n",
       "      <th>ingredient_tokens</th>\n",
       "      <th>steps_tokens</th>\n",
       "      <th>techniques</th>\n",
       "      <th>calorie_level</th>\n",
       "      <th>ingredient_ids</th>\n",
       "    </tr>\n",
       "  </thead>\n",
       "  <tbody>\n",
       "    <tr>\n",
       "      <th>0</th>\n",
       "      <td>424415</td>\n",
       "      <td>23</td>\n",
       "      <td>[40480, 37229, 2911, 1019, 249, 6878, 6878, 28...</td>\n",
       "      <td>[[2911, 1019, 249, 6878], [1353], [6953], [153...</td>\n",
       "      <td>[40480, 40482, 21662, 481, 6878, 500, 246, 161...</td>\n",
       "      <td>[0, 0, 0, 0, 0, 0, 0, 0, 0, 1, 0, 0, 0, 0, 0, ...</td>\n",
       "      <td>0</td>\n",
       "      <td>[389, 7655, 6270, 1527, 3406]</td>\n",
       "    </tr>\n",
       "    <tr>\n",
       "      <th>1</th>\n",
       "      <td>146223</td>\n",
       "      <td>96900</td>\n",
       "      <td>[40480, 18376, 7056, 246, 1531, 2032, 40481]</td>\n",
       "      <td>[[17918], [25916], [2507, 6444], [8467, 1179],...</td>\n",
       "      <td>[40480, 40482, 729, 2525, 10906, 485, 43, 8393...</td>\n",
       "      <td>[1, 0, 0, 0, 0, 0, 0, 0, 0, 1, 0, 0, 0, 0, 0, ...</td>\n",
       "      <td>0</td>\n",
       "      <td>[2683, 4969, 800, 5298, 840, 2499, 6632, 7022,...</td>\n",
       "    </tr>\n",
       "    <tr>\n",
       "      <th>2</th>\n",
       "      <td>312329</td>\n",
       "      <td>120056</td>\n",
       "      <td>[40480, 21044, 16954, 8294, 556, 10837, 40481]</td>\n",
       "      <td>[[5867, 24176], [1353], [6953], [1301, 11332],...</td>\n",
       "      <td>[40480, 40482, 8240, 481, 24176, 296, 1353, 66...</td>\n",
       "      <td>[0, 0, 0, 0, 1, 0, 0, 0, 0, 0, 0, 1, 0, 0, 0, ...</td>\n",
       "      <td>1</td>\n",
       "      <td>[1257, 7655, 6270, 590, 5024, 1119, 4883, 6696...</td>\n",
       "    </tr>\n",
       "  </tbody>\n",
       "</table>\n",
       "</div>"
      ],
      "text/plain": [
       "       id       i                                        name_tokens  \\\n",
       "0  424415      23  [40480, 37229, 2911, 1019, 249, 6878, 6878, 28...   \n",
       "1  146223   96900       [40480, 18376, 7056, 246, 1531, 2032, 40481]   \n",
       "2  312329  120056     [40480, 21044, 16954, 8294, 556, 10837, 40481]   \n",
       "\n",
       "                                   ingredient_tokens  \\\n",
       "0  [[2911, 1019, 249, 6878], [1353], [6953], [153...   \n",
       "1  [[17918], [25916], [2507, 6444], [8467, 1179],...   \n",
       "2  [[5867, 24176], [1353], [6953], [1301, 11332],...   \n",
       "\n",
       "                                        steps_tokens  \\\n",
       "0  [40480, 40482, 21662, 481, 6878, 500, 246, 161...   \n",
       "1  [40480, 40482, 729, 2525, 10906, 485, 43, 8393...   \n",
       "2  [40480, 40482, 8240, 481, 24176, 296, 1353, 66...   \n",
       "\n",
       "                                          techniques  calorie_level  \\\n",
       "0  [0, 0, 0, 0, 0, 0, 0, 0, 0, 1, 0, 0, 0, 0, 0, ...              0   \n",
       "1  [1, 0, 0, 0, 0, 0, 0, 0, 0, 1, 0, 0, 0, 0, 0, ...              0   \n",
       "2  [0, 0, 0, 0, 1, 0, 0, 0, 0, 0, 0, 1, 0, 0, 0, ...              1   \n",
       "\n",
       "                                      ingredient_ids  \n",
       "0                      [389, 7655, 6270, 1527, 3406]  \n",
       "1  [2683, 4969, 800, 5298, 840, 2499, 6632, 7022,...  \n",
       "2  [1257, 7655, 6270, 590, 5024, 1119, 4883, 6696...  "
      ]
     },
     "execution_count": 3,
     "metadata": {},
     "output_type": "execute_result"
    }
   ],
   "source": [
    "df = pd.read_csv(\"data/kaggle_food_dot_com/PP_recipes.csv\")\n",
    "df.head(3)"
   ]
  },
  {
   "cell_type": "code",
   "execution_count": 4,
   "metadata": {},
   "outputs": [
    {
     "data": {
      "text/plain": [
       "(178265, 8)"
      ]
     },
     "execution_count": 4,
     "metadata": {},
     "output_type": "execute_result"
    }
   ],
   "source": [
    "df.shape"
   ]
  },
  {
   "cell_type": "code",
   "execution_count": 5,
   "metadata": {},
   "outputs": [
    {
     "data": {
      "text/plain": [
       "id                    int64\n",
       "i                     int64\n",
       "name_tokens          object\n",
       "ingredient_tokens    object\n",
       "steps_tokens         object\n",
       "techniques           object\n",
       "calorie_level         int64\n",
       "ingredient_ids       object\n",
       "dtype: object"
      ]
     },
     "execution_count": 5,
     "metadata": {},
     "output_type": "execute_result"
    }
   ],
   "source": [
    "df.dtypes"
   ]
  },
  {
   "cell_type": "code",
   "execution_count": 6,
   "metadata": {},
   "outputs": [
    {
     "data": {
      "text/plain": [
       "'[[2911, 1019, 249, 6878], [1353], [6953], [15341, 3261], [2056, 857, 643, 1631, 20480]]'"
      ]
     },
     "execution_count": 6,
     "metadata": {},
     "output_type": "execute_result"
    }
   ],
   "source": [
    "df[\"ingredient_tokens\"][0]"
   ]
  },
  {
   "cell_type": "code",
   "execution_count": 7,
   "metadata": {},
   "outputs": [
    {
     "data": {
      "text/plain": [
       "'[389, 7655, 6270, 1527, 3406]'"
      ]
     },
     "execution_count": 7,
     "metadata": {},
     "output_type": "execute_result"
    }
   ],
   "source": [
    "df[\"ingredient_ids\"][0]"
   ]
  },
  {
   "cell_type": "markdown",
   "metadata": {},
   "source": [
    "---\n",
    "## convert strings into real lists\n",
    "- some of the fields I want to use look like lists but they're wrapped in strings so I need to listify them with regex"
   ]
  },
  {
   "cell_type": "code",
   "execution_count": 8,
   "metadata": {},
   "outputs": [
    {
     "data": {
      "text/plain": [
       "[[2911, 1019, 249, 6878],\n",
       " [1353],\n",
       " [6953],\n",
       " [15341, 3261],\n",
       " [2056, 857, 643, 1631, 20480]]"
      ]
     },
     "execution_count": 8,
     "metadata": {},
     "output_type": "execute_result"
    }
   ],
   "source": [
    "result = []\n",
    "for element in df[\"ingredient_tokens\"][0].split(\"]\"):\n",
    "    tokens = re.findall(r\"\\b\\d+\", element)\n",
    "    if len(tokens) > 0:\n",
    "        tokens = [ int(token) for token in tokens ]\n",
    "        result.append(tokens)\n",
    "result"
   ]
  },
  {
   "cell_type": "code",
   "execution_count": 9,
   "metadata": {},
   "outputs": [
    {
     "data": {
      "text/plain": [
       "[389, 7655, 6270, 1527, 3406]"
      ]
     },
     "execution_count": 9,
     "metadata": {},
     "output_type": "execute_result"
    }
   ],
   "source": [
    "[ int(id) for id in df[\"ingredient_ids\"][0].replace(\"[\", \"\").replace(\"]\", \"\").split(\", \") ]"
   ]
  },
  {
   "cell_type": "code",
   "execution_count": 10,
   "metadata": {},
   "outputs": [
    {
     "data": {
      "text/plain": [
       "[17]"
      ]
     },
     "execution_count": 10,
     "metadata": {},
     "output_type": "execute_result"
    }
   ],
   "source": [
    "# confirming that `split` doesn't care if it has anything to split\n",
    "[ int(id) for id in \"[17]\".replace(\"[\", \"\").replace(\"]\", \"\").split(\", \") ]"
   ]
  },
  {
   "cell_type": "code",
   "execution_count": 11,
   "metadata": {},
   "outputs": [],
   "source": [
    "def ingr_ids_to_list(id_list):\n",
    "    return [ int(id) for id in  id_list.replace(\"[\", \"\").replace(\"]\",\"\").split(\", \") ]\n",
    "\n",
    "df[\"ingr_ints\"] = df[\"ingredient_ids\"].apply(ingr_ids_to_list)"
   ]
  },
  {
   "cell_type": "code",
   "execution_count": 12,
   "metadata": {},
   "outputs": [
    {
     "data": {
      "text/html": [
       "<div>\n",
       "<style scoped>\n",
       "    .dataframe tbody tr th:only-of-type {\n",
       "        vertical-align: middle;\n",
       "    }\n",
       "\n",
       "    .dataframe tbody tr th {\n",
       "        vertical-align: top;\n",
       "    }\n",
       "\n",
       "    .dataframe thead th {\n",
       "        text-align: right;\n",
       "    }\n",
       "</style>\n",
       "<table border=\"1\" class=\"dataframe\">\n",
       "  <thead>\n",
       "    <tr style=\"text-align: right;\">\n",
       "      <th></th>\n",
       "      <th>id</th>\n",
       "      <th>i</th>\n",
       "      <th>name_tokens</th>\n",
       "      <th>ingredient_tokens</th>\n",
       "      <th>steps_tokens</th>\n",
       "      <th>techniques</th>\n",
       "      <th>calorie_level</th>\n",
       "      <th>ingredient_ids</th>\n",
       "      <th>ingr_ints</th>\n",
       "    </tr>\n",
       "  </thead>\n",
       "  <tbody>\n",
       "    <tr>\n",
       "      <th>0</th>\n",
       "      <td>424415</td>\n",
       "      <td>23</td>\n",
       "      <td>[40480, 37229, 2911, 1019, 249, 6878, 6878, 28...</td>\n",
       "      <td>[[2911, 1019, 249, 6878], [1353], [6953], [153...</td>\n",
       "      <td>[40480, 40482, 21662, 481, 6878, 500, 246, 161...</td>\n",
       "      <td>[0, 0, 0, 0, 0, 0, 0, 0, 0, 1, 0, 0, 0, 0, 0, ...</td>\n",
       "      <td>0</td>\n",
       "      <td>[389, 7655, 6270, 1527, 3406]</td>\n",
       "      <td>[389, 7655, 6270, 1527, 3406]</td>\n",
       "    </tr>\n",
       "    <tr>\n",
       "      <th>1</th>\n",
       "      <td>146223</td>\n",
       "      <td>96900</td>\n",
       "      <td>[40480, 18376, 7056, 246, 1531, 2032, 40481]</td>\n",
       "      <td>[[17918], [25916], [2507, 6444], [8467, 1179],...</td>\n",
       "      <td>[40480, 40482, 729, 2525, 10906, 485, 43, 8393...</td>\n",
       "      <td>[1, 0, 0, 0, 0, 0, 0, 0, 0, 1, 0, 0, 0, 0, 0, ...</td>\n",
       "      <td>0</td>\n",
       "      <td>[2683, 4969, 800, 5298, 840, 2499, 6632, 7022,...</td>\n",
       "      <td>[2683, 4969, 800, 5298, 840, 2499, 6632, 7022,...</td>\n",
       "    </tr>\n",
       "    <tr>\n",
       "      <th>2</th>\n",
       "      <td>312329</td>\n",
       "      <td>120056</td>\n",
       "      <td>[40480, 21044, 16954, 8294, 556, 10837, 40481]</td>\n",
       "      <td>[[5867, 24176], [1353], [6953], [1301, 11332],...</td>\n",
       "      <td>[40480, 40482, 8240, 481, 24176, 296, 1353, 66...</td>\n",
       "      <td>[0, 0, 0, 0, 1, 0, 0, 0, 0, 0, 0, 1, 0, 0, 0, ...</td>\n",
       "      <td>1</td>\n",
       "      <td>[1257, 7655, 6270, 590, 5024, 1119, 4883, 6696...</td>\n",
       "      <td>[1257, 7655, 6270, 590, 5024, 1119, 4883, 6696...</td>\n",
       "    </tr>\n",
       "  </tbody>\n",
       "</table>\n",
       "</div>"
      ],
      "text/plain": [
       "       id       i                                        name_tokens  \\\n",
       "0  424415      23  [40480, 37229, 2911, 1019, 249, 6878, 6878, 28...   \n",
       "1  146223   96900       [40480, 18376, 7056, 246, 1531, 2032, 40481]   \n",
       "2  312329  120056     [40480, 21044, 16954, 8294, 556, 10837, 40481]   \n",
       "\n",
       "                                   ingredient_tokens  \\\n",
       "0  [[2911, 1019, 249, 6878], [1353], [6953], [153...   \n",
       "1  [[17918], [25916], [2507, 6444], [8467, 1179],...   \n",
       "2  [[5867, 24176], [1353], [6953], [1301, 11332],...   \n",
       "\n",
       "                                        steps_tokens  \\\n",
       "0  [40480, 40482, 21662, 481, 6878, 500, 246, 161...   \n",
       "1  [40480, 40482, 729, 2525, 10906, 485, 43, 8393...   \n",
       "2  [40480, 40482, 8240, 481, 24176, 296, 1353, 66...   \n",
       "\n",
       "                                          techniques  calorie_level  \\\n",
       "0  [0, 0, 0, 0, 0, 0, 0, 0, 0, 1, 0, 0, 0, 0, 0, ...              0   \n",
       "1  [1, 0, 0, 0, 0, 0, 0, 0, 0, 1, 0, 0, 0, 0, 0, ...              0   \n",
       "2  [0, 0, 0, 0, 1, 0, 0, 0, 0, 0, 0, 1, 0, 0, 0, ...              1   \n",
       "\n",
       "                                      ingredient_ids  \\\n",
       "0                      [389, 7655, 6270, 1527, 3406]   \n",
       "1  [2683, 4969, 800, 5298, 840, 2499, 6632, 7022,...   \n",
       "2  [1257, 7655, 6270, 590, 5024, 1119, 4883, 6696...   \n",
       "\n",
       "                                           ingr_ints  \n",
       "0                      [389, 7655, 6270, 1527, 3406]  \n",
       "1  [2683, 4969, 800, 5298, 840, 2499, 6632, 7022,...  \n",
       "2  [1257, 7655, 6270, 590, 5024, 1119, 4883, 6696...  "
      ]
     },
     "execution_count": 12,
     "metadata": {},
     "output_type": "execute_result"
    }
   ],
   "source": [
    "df.head(3)"
   ]
  },
  {
   "cell_type": "code",
   "execution_count": 13,
   "metadata": {},
   "outputs": [],
   "source": [
    "file_name = \"data/generated_data/processed_recipes.parquet\"\n",
    "df.to_parquet(file_name, engine=\"pyarrow\", compression=\"gzip\")"
   ]
  },
  {
   "cell_type": "markdown",
   "metadata": {},
   "source": [
    "---\n",
    "## dummify ingredient tokens\n",
    "- these integers don't have any meaning -- ie. they're still just ids to map to the ingredients\n",
    "- binarize them so the model just has flags for which ones are present, ie. dummify the tokens"
   ]
  },
  {
   "cell_type": "code",
   "execution_count": 14,
   "metadata": {},
   "outputs": [
    {
     "data": {
      "text/html": [
       "<div>\n",
       "<style scoped>\n",
       "    .dataframe tbody tr th:only-of-type {\n",
       "        vertical-align: middle;\n",
       "    }\n",
       "\n",
       "    .dataframe tbody tr th {\n",
       "        vertical-align: top;\n",
       "    }\n",
       "\n",
       "    .dataframe thead th {\n",
       "        text-align: right;\n",
       "    }\n",
       "</style>\n",
       "<table border=\"1\" class=\"dataframe\">\n",
       "  <thead>\n",
       "    <tr style=\"text-align: right;\">\n",
       "      <th></th>\n",
       "      <th>raw_ingr</th>\n",
       "      <th>raw_words</th>\n",
       "      <th>processed</th>\n",
       "      <th>len_proc</th>\n",
       "      <th>replaced</th>\n",
       "      <th>count</th>\n",
       "      <th>id</th>\n",
       "    </tr>\n",
       "  </thead>\n",
       "  <tbody>\n",
       "    <tr>\n",
       "      <th>0</th>\n",
       "      <td>medium heads bibb or red leaf lettuce, washed,...</td>\n",
       "      <td>13</td>\n",
       "      <td>medium heads bibb or red leaf lettuce, washed,...</td>\n",
       "      <td>73</td>\n",
       "      <td>lettuce</td>\n",
       "      <td>4507</td>\n",
       "      <td>4308</td>\n",
       "    </tr>\n",
       "    <tr>\n",
       "      <th>1</th>\n",
       "      <td>mixed baby lettuces and spring greens</td>\n",
       "      <td>6</td>\n",
       "      <td>mixed baby lettuces and spring green</td>\n",
       "      <td>36</td>\n",
       "      <td>lettuce</td>\n",
       "      <td>4507</td>\n",
       "      <td>4308</td>\n",
       "    </tr>\n",
       "    <tr>\n",
       "      <th>2</th>\n",
       "      <td>romaine lettuce leaf</td>\n",
       "      <td>3</td>\n",
       "      <td>romaine lettuce leaf</td>\n",
       "      <td>20</td>\n",
       "      <td>lettuce</td>\n",
       "      <td>4507</td>\n",
       "      <td>4308</td>\n",
       "    </tr>\n",
       "    <tr>\n",
       "      <th>3</th>\n",
       "      <td>iceberg lettuce leaf</td>\n",
       "      <td>3</td>\n",
       "      <td>iceberg lettuce leaf</td>\n",
       "      <td>20</td>\n",
       "      <td>lettuce</td>\n",
       "      <td>4507</td>\n",
       "      <td>4308</td>\n",
       "    </tr>\n",
       "    <tr>\n",
       "      <th>4</th>\n",
       "      <td>red romaine lettuce</td>\n",
       "      <td>3</td>\n",
       "      <td>red romaine lettuce</td>\n",
       "      <td>19</td>\n",
       "      <td>lettuce</td>\n",
       "      <td>4507</td>\n",
       "      <td>4308</td>\n",
       "    </tr>\n",
       "  </tbody>\n",
       "</table>\n",
       "</div>"
      ],
      "text/plain": [
       "                                            raw_ingr  raw_words  \\\n",
       "0  medium heads bibb or red leaf lettuce, washed,...         13   \n",
       "1              mixed baby lettuces and spring greens          6   \n",
       "2                               romaine lettuce leaf          3   \n",
       "3                               iceberg lettuce leaf          3   \n",
       "4                                red romaine lettuce          3   \n",
       "\n",
       "                                           processed  len_proc replaced  \\\n",
       "0  medium heads bibb or red leaf lettuce, washed,...        73  lettuce   \n",
       "1               mixed baby lettuces and spring green        36  lettuce   \n",
       "2                               romaine lettuce leaf        20  lettuce   \n",
       "3                               iceberg lettuce leaf        20  lettuce   \n",
       "4                                red romaine lettuce        19  lettuce   \n",
       "\n",
       "   count    id  \n",
       "0   4507  4308  \n",
       "1   4507  4308  \n",
       "2   4507  4308  \n",
       "3   4507  4308  \n",
       "4   4507  4308  "
      ]
     },
     "execution_count": 14,
     "metadata": {},
     "output_type": "execute_result"
    }
   ],
   "source": [
    "map_df = pd.read_pickle(\"data/kaggle_food_dot_com/ingr_map.pkl\")\n",
    "map_df.head()"
   ]
  },
  {
   "cell_type": "code",
   "execution_count": 15,
   "metadata": {},
   "outputs": [
    {
     "data": {
      "text/html": [
       "<div>\n",
       "<style scoped>\n",
       "    .dataframe tbody tr th:only-of-type {\n",
       "        vertical-align: middle;\n",
       "    }\n",
       "\n",
       "    .dataframe tbody tr th {\n",
       "        vertical-align: top;\n",
       "    }\n",
       "\n",
       "    .dataframe thead th {\n",
       "        text-align: right;\n",
       "    }\n",
       "</style>\n",
       "<table border=\"1\" class=\"dataframe\">\n",
       "  <thead>\n",
       "    <tr style=\"text-align: right;\">\n",
       "      <th></th>\n",
       "      <th>4308</th>\n",
       "      <th>5</th>\n",
       "      <th>29</th>\n",
       "      <th>12</th>\n",
       "    </tr>\n",
       "  </thead>\n",
       "  <tbody>\n",
       "    <tr>\n",
       "      <th>0</th>\n",
       "      <td>1</td>\n",
       "      <td>1</td>\n",
       "      <td>0</td>\n",
       "      <td>1</td>\n",
       "    </tr>\n",
       "    <tr>\n",
       "      <th>1</th>\n",
       "      <td>0</td>\n",
       "      <td>0</td>\n",
       "      <td>1</td>\n",
       "      <td>1</td>\n",
       "    </tr>\n",
       "  </tbody>\n",
       "</table>\n",
       "</div>"
      ],
      "text/plain": [
       "   4308  5     29    12  \n",
       "0     1     1     0     1\n",
       "1     0     0     1     1"
      ]
     },
     "execution_count": 15,
     "metadata": {},
     "output_type": "execute_result"
    }
   ],
   "source": [
    "test_df = pd.DataFrame()\n",
    "test_series = pd.Series([[12, 4308, 5], [3, 29, 12]])\n",
    "test_ids = [4308, 5, 29, 12]\n",
    "\n",
    "for id_col in test_ids:\n",
    "    col = []\n",
    "    for recipe_row in range(0, test_series.shape[0]):\n",
    "        flag = 1 if id_col in test_series.iloc[recipe_row] else 0\n",
    "        col.append(flag)\n",
    "    # print(col)\n",
    "    test_df[id_col] = col\n",
    "    \n",
    "test_df.head()\n",
    "\n",
    "# this is not terribly efficient but let's see if that's a problem with this data"
   ]
  },
  {
   "cell_type": "code",
   "execution_count": 16,
   "metadata": {},
   "outputs": [],
   "source": [
    "ingr_ids = map_df[\"id\"].unique()"
   ]
  },
  {
   "cell_type": "code",
   "execution_count": 17,
   "metadata": {},
   "outputs": [],
   "source": [
    "flags_df = pd.DataFrame()\n",
    "cols = []\n",
    "for id_col in ingr_ids:\n",
    "    col = []\n",
    "    for recipe_row in range(0, df.shape[0]):\n",
    "        flag = 1 if id_col in df[\"ingr_ints\"].iloc[recipe_row] else 0\n",
    "        col.append(flag)\n",
    "    cols.append(col)"
   ]
  },
  {
   "cell_type": "code",
   "execution_count": 18,
   "metadata": {},
   "outputs": [],
   "source": [
    "col_series = []\n",
    "for col in cols:\n",
    "    col_series.append(pd.Series(col))"
   ]
  },
  {
   "cell_type": "code",
   "execution_count": 19,
   "metadata": {},
   "outputs": [
    {
     "data": {
      "text/plain": [
       "(178265, 8023)"
      ]
     },
     "execution_count": 19,
     "metadata": {},
     "output_type": "execute_result"
    }
   ],
   "source": [
    "flags_df = pd.concat(col_series, axis=1)    \n",
    "flags_df.shape"
   ]
  },
  {
   "cell_type": "code",
   "execution_count": 20,
   "metadata": {},
   "outputs": [],
   "source": [
    "file_name = \"data/generated_data/ingr_dummies.parquet\"\n",
    "flags_df.to_parquet(file_name, engine=\"pyarrow\", compression=\"gzip\")"
   ]
  },
  {
   "cell_type": "markdown",
   "metadata": {},
   "source": [
    "---\n",
    "## KMeans model\n",
    "- to be clear, this is attempting to cluster recipes based on their ingredients, it's not clustering the ingredients themselves\n",
    "- I had previously been looking at a food database that had distinct labels for 22 types of foods\n",
    "- started looking at KMeans clustering with `n_clusters=12`; not quite a random number but also not with any real science behind it"
   ]
  },
  {
   "cell_type": "code",
   "execution_count": 21,
   "metadata": {},
   "outputs": [],
   "source": [
    "id_flags = flags_df.columns"
   ]
  },
  {
   "cell_type": "code",
   "execution_count": 22,
   "metadata": {},
   "outputs": [
    {
     "data": {
      "text/plain": [
       "pandas.core.indexes.range.RangeIndex"
      ]
     },
     "execution_count": 22,
     "metadata": {},
     "output_type": "execute_result"
    }
   ],
   "source": [
    "type(id_flags)"
   ]
  },
  {
   "cell_type": "code",
   "execution_count": 23,
   "metadata": {},
   "outputs": [],
   "source": [
    "km = KMeans(n_clusters=12, n_init=\"auto\", random_state=42)"
   ]
  },
  {
   "cell_type": "code",
   "execution_count": 24,
   "metadata": {},
   "outputs": [
    {
     "data": {
      "text/html": [
       "<style>#sk-container-id-1 {\n",
       "  /* Definition of color scheme common for light and dark mode */\n",
       "  --sklearn-color-text: black;\n",
       "  --sklearn-color-line: gray;\n",
       "  /* Definition of color scheme for unfitted estimators */\n",
       "  --sklearn-color-unfitted-level-0: #fff5e6;\n",
       "  --sklearn-color-unfitted-level-1: #f6e4d2;\n",
       "  --sklearn-color-unfitted-level-2: #ffe0b3;\n",
       "  --sklearn-color-unfitted-level-3: chocolate;\n",
       "  /* Definition of color scheme for fitted estimators */\n",
       "  --sklearn-color-fitted-level-0: #f0f8ff;\n",
       "  --sklearn-color-fitted-level-1: #d4ebff;\n",
       "  --sklearn-color-fitted-level-2: #b3dbfd;\n",
       "  --sklearn-color-fitted-level-3: cornflowerblue;\n",
       "\n",
       "  /* Specific color for light theme */\n",
       "  --sklearn-color-text-on-default-background: var(--sg-text-color, var(--theme-code-foreground, var(--jp-content-font-color1, black)));\n",
       "  --sklearn-color-background: var(--sg-background-color, var(--theme-background, var(--jp-layout-color0, white)));\n",
       "  --sklearn-color-border-box: var(--sg-text-color, var(--theme-code-foreground, var(--jp-content-font-color1, black)));\n",
       "  --sklearn-color-icon: #696969;\n",
       "\n",
       "  @media (prefers-color-scheme: dark) {\n",
       "    /* Redefinition of color scheme for dark theme */\n",
       "    --sklearn-color-text-on-default-background: var(--sg-text-color, var(--theme-code-foreground, var(--jp-content-font-color1, white)));\n",
       "    --sklearn-color-background: var(--sg-background-color, var(--theme-background, var(--jp-layout-color0, #111)));\n",
       "    --sklearn-color-border-box: var(--sg-text-color, var(--theme-code-foreground, var(--jp-content-font-color1, white)));\n",
       "    --sklearn-color-icon: #878787;\n",
       "  }\n",
       "}\n",
       "\n",
       "#sk-container-id-1 {\n",
       "  color: var(--sklearn-color-text);\n",
       "}\n",
       "\n",
       "#sk-container-id-1 pre {\n",
       "  padding: 0;\n",
       "}\n",
       "\n",
       "#sk-container-id-1 input.sk-hidden--visually {\n",
       "  border: 0;\n",
       "  clip: rect(1px 1px 1px 1px);\n",
       "  clip: rect(1px, 1px, 1px, 1px);\n",
       "  height: 1px;\n",
       "  margin: -1px;\n",
       "  overflow: hidden;\n",
       "  padding: 0;\n",
       "  position: absolute;\n",
       "  width: 1px;\n",
       "}\n",
       "\n",
       "#sk-container-id-1 div.sk-dashed-wrapped {\n",
       "  border: 1px dashed var(--sklearn-color-line);\n",
       "  margin: 0 0.4em 0.5em 0.4em;\n",
       "  box-sizing: border-box;\n",
       "  padding-bottom: 0.4em;\n",
       "  background-color: var(--sklearn-color-background);\n",
       "}\n",
       "\n",
       "#sk-container-id-1 div.sk-container {\n",
       "  /* jupyter's `normalize.less` sets `[hidden] { display: none; }`\n",
       "     but bootstrap.min.css set `[hidden] { display: none !important; }`\n",
       "     so we also need the `!important` here to be able to override the\n",
       "     default hidden behavior on the sphinx rendered scikit-learn.org.\n",
       "     See: https://github.com/scikit-learn/scikit-learn/issues/21755 */\n",
       "  display: inline-block !important;\n",
       "  position: relative;\n",
       "}\n",
       "\n",
       "#sk-container-id-1 div.sk-text-repr-fallback {\n",
       "  display: none;\n",
       "}\n",
       "\n",
       "div.sk-parallel-item,\n",
       "div.sk-serial,\n",
       "div.sk-item {\n",
       "  /* draw centered vertical line to link estimators */\n",
       "  background-image: linear-gradient(var(--sklearn-color-text-on-default-background), var(--sklearn-color-text-on-default-background));\n",
       "  background-size: 2px 100%;\n",
       "  background-repeat: no-repeat;\n",
       "  background-position: center center;\n",
       "}\n",
       "\n",
       "/* Parallel-specific style estimator block */\n",
       "\n",
       "#sk-container-id-1 div.sk-parallel-item::after {\n",
       "  content: \"\";\n",
       "  width: 100%;\n",
       "  border-bottom: 2px solid var(--sklearn-color-text-on-default-background);\n",
       "  flex-grow: 1;\n",
       "}\n",
       "\n",
       "#sk-container-id-1 div.sk-parallel {\n",
       "  display: flex;\n",
       "  align-items: stretch;\n",
       "  justify-content: center;\n",
       "  background-color: var(--sklearn-color-background);\n",
       "  position: relative;\n",
       "}\n",
       "\n",
       "#sk-container-id-1 div.sk-parallel-item {\n",
       "  display: flex;\n",
       "  flex-direction: column;\n",
       "}\n",
       "\n",
       "#sk-container-id-1 div.sk-parallel-item:first-child::after {\n",
       "  align-self: flex-end;\n",
       "  width: 50%;\n",
       "}\n",
       "\n",
       "#sk-container-id-1 div.sk-parallel-item:last-child::after {\n",
       "  align-self: flex-start;\n",
       "  width: 50%;\n",
       "}\n",
       "\n",
       "#sk-container-id-1 div.sk-parallel-item:only-child::after {\n",
       "  width: 0;\n",
       "}\n",
       "\n",
       "/* Serial-specific style estimator block */\n",
       "\n",
       "#sk-container-id-1 div.sk-serial {\n",
       "  display: flex;\n",
       "  flex-direction: column;\n",
       "  align-items: center;\n",
       "  background-color: var(--sklearn-color-background);\n",
       "  padding-right: 1em;\n",
       "  padding-left: 1em;\n",
       "}\n",
       "\n",
       "\n",
       "/* Toggleable style: style used for estimator/Pipeline/ColumnTransformer box that is\n",
       "clickable and can be expanded/collapsed.\n",
       "- Pipeline and ColumnTransformer use this feature and define the default style\n",
       "- Estimators will overwrite some part of the style using the `sk-estimator` class\n",
       "*/\n",
       "\n",
       "/* Pipeline and ColumnTransformer style (default) */\n",
       "\n",
       "#sk-container-id-1 div.sk-toggleable {\n",
       "  /* Default theme specific background. It is overwritten whether we have a\n",
       "  specific estimator or a Pipeline/ColumnTransformer */\n",
       "  background-color: var(--sklearn-color-background);\n",
       "}\n",
       "\n",
       "/* Toggleable label */\n",
       "#sk-container-id-1 label.sk-toggleable__label {\n",
       "  cursor: pointer;\n",
       "  display: block;\n",
       "  width: 100%;\n",
       "  margin-bottom: 0;\n",
       "  padding: 0.5em;\n",
       "  box-sizing: border-box;\n",
       "  text-align: center;\n",
       "}\n",
       "\n",
       "#sk-container-id-1 label.sk-toggleable__label-arrow:before {\n",
       "  /* Arrow on the left of the label */\n",
       "  content: \"▸\";\n",
       "  float: left;\n",
       "  margin-right: 0.25em;\n",
       "  color: var(--sklearn-color-icon);\n",
       "}\n",
       "\n",
       "#sk-container-id-1 label.sk-toggleable__label-arrow:hover:before {\n",
       "  color: var(--sklearn-color-text);\n",
       "}\n",
       "\n",
       "/* Toggleable content - dropdown */\n",
       "\n",
       "#sk-container-id-1 div.sk-toggleable__content {\n",
       "  max-height: 0;\n",
       "  max-width: 0;\n",
       "  overflow: hidden;\n",
       "  text-align: left;\n",
       "  /* unfitted */\n",
       "  background-color: var(--sklearn-color-unfitted-level-0);\n",
       "}\n",
       "\n",
       "#sk-container-id-1 div.sk-toggleable__content.fitted {\n",
       "  /* fitted */\n",
       "  background-color: var(--sklearn-color-fitted-level-0);\n",
       "}\n",
       "\n",
       "#sk-container-id-1 div.sk-toggleable__content pre {\n",
       "  margin: 0.2em;\n",
       "  border-radius: 0.25em;\n",
       "  color: var(--sklearn-color-text);\n",
       "  /* unfitted */\n",
       "  background-color: var(--sklearn-color-unfitted-level-0);\n",
       "}\n",
       "\n",
       "#sk-container-id-1 div.sk-toggleable__content.fitted pre {\n",
       "  /* unfitted */\n",
       "  background-color: var(--sklearn-color-fitted-level-0);\n",
       "}\n",
       "\n",
       "#sk-container-id-1 input.sk-toggleable__control:checked~div.sk-toggleable__content {\n",
       "  /* Expand drop-down */\n",
       "  max-height: 200px;\n",
       "  max-width: 100%;\n",
       "  overflow: auto;\n",
       "}\n",
       "\n",
       "#sk-container-id-1 input.sk-toggleable__control:checked~label.sk-toggleable__label-arrow:before {\n",
       "  content: \"▾\";\n",
       "}\n",
       "\n",
       "/* Pipeline/ColumnTransformer-specific style */\n",
       "\n",
       "#sk-container-id-1 div.sk-label input.sk-toggleable__control:checked~label.sk-toggleable__label {\n",
       "  color: var(--sklearn-color-text);\n",
       "  background-color: var(--sklearn-color-unfitted-level-2);\n",
       "}\n",
       "\n",
       "#sk-container-id-1 div.sk-label.fitted input.sk-toggleable__control:checked~label.sk-toggleable__label {\n",
       "  background-color: var(--sklearn-color-fitted-level-2);\n",
       "}\n",
       "\n",
       "/* Estimator-specific style */\n",
       "\n",
       "/* Colorize estimator box */\n",
       "#sk-container-id-1 div.sk-estimator input.sk-toggleable__control:checked~label.sk-toggleable__label {\n",
       "  /* unfitted */\n",
       "  background-color: var(--sklearn-color-unfitted-level-2);\n",
       "}\n",
       "\n",
       "#sk-container-id-1 div.sk-estimator.fitted input.sk-toggleable__control:checked~label.sk-toggleable__label {\n",
       "  /* fitted */\n",
       "  background-color: var(--sklearn-color-fitted-level-2);\n",
       "}\n",
       "\n",
       "#sk-container-id-1 div.sk-label label.sk-toggleable__label,\n",
       "#sk-container-id-1 div.sk-label label {\n",
       "  /* The background is the default theme color */\n",
       "  color: var(--sklearn-color-text-on-default-background);\n",
       "}\n",
       "\n",
       "/* On hover, darken the color of the background */\n",
       "#sk-container-id-1 div.sk-label:hover label.sk-toggleable__label {\n",
       "  color: var(--sklearn-color-text);\n",
       "  background-color: var(--sklearn-color-unfitted-level-2);\n",
       "}\n",
       "\n",
       "/* Label box, darken color on hover, fitted */\n",
       "#sk-container-id-1 div.sk-label.fitted:hover label.sk-toggleable__label.fitted {\n",
       "  color: var(--sklearn-color-text);\n",
       "  background-color: var(--sklearn-color-fitted-level-2);\n",
       "}\n",
       "\n",
       "/* Estimator label */\n",
       "\n",
       "#sk-container-id-1 div.sk-label label {\n",
       "  font-family: monospace;\n",
       "  font-weight: bold;\n",
       "  display: inline-block;\n",
       "  line-height: 1.2em;\n",
       "}\n",
       "\n",
       "#sk-container-id-1 div.sk-label-container {\n",
       "  text-align: center;\n",
       "}\n",
       "\n",
       "/* Estimator-specific */\n",
       "#sk-container-id-1 div.sk-estimator {\n",
       "  font-family: monospace;\n",
       "  border: 1px dotted var(--sklearn-color-border-box);\n",
       "  border-radius: 0.25em;\n",
       "  box-sizing: border-box;\n",
       "  margin-bottom: 0.5em;\n",
       "  /* unfitted */\n",
       "  background-color: var(--sklearn-color-unfitted-level-0);\n",
       "}\n",
       "\n",
       "#sk-container-id-1 div.sk-estimator.fitted {\n",
       "  /* fitted */\n",
       "  background-color: var(--sklearn-color-fitted-level-0);\n",
       "}\n",
       "\n",
       "/* on hover */\n",
       "#sk-container-id-1 div.sk-estimator:hover {\n",
       "  /* unfitted */\n",
       "  background-color: var(--sklearn-color-unfitted-level-2);\n",
       "}\n",
       "\n",
       "#sk-container-id-1 div.sk-estimator.fitted:hover {\n",
       "  /* fitted */\n",
       "  background-color: var(--sklearn-color-fitted-level-2);\n",
       "}\n",
       "\n",
       "/* Specification for estimator info (e.g. \"i\" and \"?\") */\n",
       "\n",
       "/* Common style for \"i\" and \"?\" */\n",
       "\n",
       ".sk-estimator-doc-link,\n",
       "a:link.sk-estimator-doc-link,\n",
       "a:visited.sk-estimator-doc-link {\n",
       "  float: right;\n",
       "  font-size: smaller;\n",
       "  line-height: 1em;\n",
       "  font-family: monospace;\n",
       "  background-color: var(--sklearn-color-background);\n",
       "  border-radius: 1em;\n",
       "  height: 1em;\n",
       "  width: 1em;\n",
       "  text-decoration: none !important;\n",
       "  margin-left: 1ex;\n",
       "  /* unfitted */\n",
       "  border: var(--sklearn-color-unfitted-level-1) 1pt solid;\n",
       "  color: var(--sklearn-color-unfitted-level-1);\n",
       "}\n",
       "\n",
       ".sk-estimator-doc-link.fitted,\n",
       "a:link.sk-estimator-doc-link.fitted,\n",
       "a:visited.sk-estimator-doc-link.fitted {\n",
       "  /* fitted */\n",
       "  border: var(--sklearn-color-fitted-level-1) 1pt solid;\n",
       "  color: var(--sklearn-color-fitted-level-1);\n",
       "}\n",
       "\n",
       "/* On hover */\n",
       "div.sk-estimator:hover .sk-estimator-doc-link:hover,\n",
       ".sk-estimator-doc-link:hover,\n",
       "div.sk-label-container:hover .sk-estimator-doc-link:hover,\n",
       ".sk-estimator-doc-link:hover {\n",
       "  /* unfitted */\n",
       "  background-color: var(--sklearn-color-unfitted-level-3);\n",
       "  color: var(--sklearn-color-background);\n",
       "  text-decoration: none;\n",
       "}\n",
       "\n",
       "div.sk-estimator.fitted:hover .sk-estimator-doc-link.fitted:hover,\n",
       ".sk-estimator-doc-link.fitted:hover,\n",
       "div.sk-label-container:hover .sk-estimator-doc-link.fitted:hover,\n",
       ".sk-estimator-doc-link.fitted:hover {\n",
       "  /* fitted */\n",
       "  background-color: var(--sklearn-color-fitted-level-3);\n",
       "  color: var(--sklearn-color-background);\n",
       "  text-decoration: none;\n",
       "}\n",
       "\n",
       "/* Span, style for the box shown on hovering the info icon */\n",
       ".sk-estimator-doc-link span {\n",
       "  display: none;\n",
       "  z-index: 9999;\n",
       "  position: relative;\n",
       "  font-weight: normal;\n",
       "  right: .2ex;\n",
       "  padding: .5ex;\n",
       "  margin: .5ex;\n",
       "  width: min-content;\n",
       "  min-width: 20ex;\n",
       "  max-width: 50ex;\n",
       "  color: var(--sklearn-color-text);\n",
       "  box-shadow: 2pt 2pt 4pt #999;\n",
       "  /* unfitted */\n",
       "  background: var(--sklearn-color-unfitted-level-0);\n",
       "  border: .5pt solid var(--sklearn-color-unfitted-level-3);\n",
       "}\n",
       "\n",
       ".sk-estimator-doc-link.fitted span {\n",
       "  /* fitted */\n",
       "  background: var(--sklearn-color-fitted-level-0);\n",
       "  border: var(--sklearn-color-fitted-level-3);\n",
       "}\n",
       "\n",
       ".sk-estimator-doc-link:hover span {\n",
       "  display: block;\n",
       "}\n",
       "\n",
       "/* \"?\"-specific style due to the `<a>` HTML tag */\n",
       "\n",
       "#sk-container-id-1 a.estimator_doc_link {\n",
       "  float: right;\n",
       "  font-size: 1rem;\n",
       "  line-height: 1em;\n",
       "  font-family: monospace;\n",
       "  background-color: var(--sklearn-color-background);\n",
       "  border-radius: 1rem;\n",
       "  height: 1rem;\n",
       "  width: 1rem;\n",
       "  text-decoration: none;\n",
       "  /* unfitted */\n",
       "  color: var(--sklearn-color-unfitted-level-1);\n",
       "  border: var(--sklearn-color-unfitted-level-1) 1pt solid;\n",
       "}\n",
       "\n",
       "#sk-container-id-1 a.estimator_doc_link.fitted {\n",
       "  /* fitted */\n",
       "  border: var(--sklearn-color-fitted-level-1) 1pt solid;\n",
       "  color: var(--sklearn-color-fitted-level-1);\n",
       "}\n",
       "\n",
       "/* On hover */\n",
       "#sk-container-id-1 a.estimator_doc_link:hover {\n",
       "  /* unfitted */\n",
       "  background-color: var(--sklearn-color-unfitted-level-3);\n",
       "  color: var(--sklearn-color-background);\n",
       "  text-decoration: none;\n",
       "}\n",
       "\n",
       "#sk-container-id-1 a.estimator_doc_link.fitted:hover {\n",
       "  /* fitted */\n",
       "  background-color: var(--sklearn-color-fitted-level-3);\n",
       "}\n",
       "</style><div id=\"sk-container-id-1\" class=\"sk-top-container\"><div class=\"sk-text-repr-fallback\"><pre>KMeans(n_clusters=12, random_state=42)</pre><b>In a Jupyter environment, please rerun this cell to show the HTML representation or trust the notebook. <br />On GitHub, the HTML representation is unable to render, please try loading this page with nbviewer.org.</b></div><div class=\"sk-container\" hidden><div class=\"sk-item\"><div class=\"sk-estimator fitted sk-toggleable\"><input class=\"sk-toggleable__control sk-hidden--visually\" id=\"sk-estimator-id-1\" type=\"checkbox\" checked><label for=\"sk-estimator-id-1\" class=\"sk-toggleable__label fitted sk-toggleable__label-arrow fitted\">&nbsp;&nbsp;KMeans<a class=\"sk-estimator-doc-link fitted\" rel=\"noreferrer\" target=\"_blank\" href=\"https://scikit-learn.org/1.4/modules/generated/sklearn.cluster.KMeans.html\">?<span>Documentation for KMeans</span></a><span class=\"sk-estimator-doc-link fitted\">i<span>Fitted</span></span></label><div class=\"sk-toggleable__content fitted\"><pre>KMeans(n_clusters=12, random_state=42)</pre></div> </div></div></div></div>"
      ],
      "text/plain": [
       "KMeans(n_clusters=12, random_state=42)"
      ]
     },
     "execution_count": 24,
     "metadata": {},
     "output_type": "execute_result"
    }
   ],
   "source": [
    "km.fit(flags_df)"
   ]
  },
  {
   "cell_type": "code",
   "execution_count": 25,
   "metadata": {},
   "outputs": [
    {
     "data": {
      "text/plain": [
       "array([[ 2.88291583e-02, -3.52365706e-19,  1.82848784e-04, ...,\n",
       "        -1.01643954e-18, -8.80914265e-20,  6.16639986e-19],\n",
       "       [ 2.38307350e-02, -2.27004830e-19,  3.71195249e-04, ...,\n",
       "         7.42390497e-05, -5.67512075e-20,  2.77826807e-19],\n",
       "       [ 2.56505576e-02,  2.71050543e-19,  1.85873606e-04, ...,\n",
       "        -6.36968776e-19,  6.77626358e-20,  5.42101086e-20],\n",
       "       ...,\n",
       "       [ 3.96327584e-02,  7.58763721e-05,  1.08756133e-03, ...,\n",
       "         6.73560600e-18,  3.43048344e-19,  7.58763721e-05],\n",
       "       [ 3.63754466e-02, -3.11708125e-19,  1.94868464e-04, ...,\n",
       "        -1.00288701e-18, -7.79270311e-20,  5.21772296e-19],\n",
       "       [ 1.66722241e-04,  3.28648784e-19, -4.55364912e-18, ...,\n",
       "        -6.91178885e-19,  8.21621959e-20, -8.13151629e-20]])"
      ]
     },
     "execution_count": 25,
     "metadata": {},
     "output_type": "execute_result"
    }
   ],
   "source": [
    "km.cluster_centers_"
   ]
  },
  {
   "cell_type": "code",
   "execution_count": 26,
   "metadata": {},
   "outputs": [
    {
     "data": {
      "text/plain": [
       "12"
      ]
     },
     "execution_count": 26,
     "metadata": {},
     "output_type": "execute_result"
    }
   ],
   "source": [
    "len(km.cluster_centers_)"
   ]
  },
  {
   "cell_type": "code",
   "execution_count": 27,
   "metadata": {},
   "outputs": [
    {
     "data": {
      "text/plain": [
       "8023"
      ]
     },
     "execution_count": 27,
     "metadata": {},
     "output_type": "execute_result"
    }
   ],
   "source": [
    "len(km.cluster_centers_[0])"
   ]
  },
  {
   "cell_type": "code",
   "execution_count": 28,
   "metadata": {},
   "outputs": [
    {
     "data": {
      "text/plain": [
       "True"
      ]
     },
     "execution_count": 28,
     "metadata": {},
     "output_type": "execute_result"
    }
   ],
   "source": [
    "len(km.labels_) == df.shape[0]"
   ]
  },
  {
   "cell_type": "code",
   "execution_count": 29,
   "metadata": {},
   "outputs": [
    {
     "data": {
      "text/plain": [
       "0.016991328560413268"
      ]
     },
     "execution_count": 29,
     "metadata": {},
     "output_type": "execute_result"
    }
   ],
   "source": [
    "silhouette_score(flags_df, km.labels_)"
   ]
  },
  {
   "cell_type": "code",
   "execution_count": 30,
   "metadata": {},
   "outputs": [
    {
     "data": {
      "text/plain": [
       "1318922.8589656104"
      ]
     },
     "execution_count": 30,
     "metadata": {},
     "output_type": "execute_result"
    }
   ],
   "source": [
    "km.inertia_\n"
   ]
  },
  {
   "cell_type": "code",
   "execution_count": 31,
   "metadata": {},
   "outputs": [],
   "source": [
    "labeled_recipes = pd.concat([df[\"id\"], pd.Series(km.labels_)], axis=1)"
   ]
  },
  {
   "cell_type": "code",
   "execution_count": 32,
   "metadata": {},
   "outputs": [
    {
     "data": {
      "text/plain": [
       "Index(['id', 0], dtype='object')"
      ]
     },
     "execution_count": 32,
     "metadata": {},
     "output_type": "execute_result"
    }
   ],
   "source": [
    "labeled_recipes.columns"
   ]
  },
  {
   "cell_type": "code",
   "execution_count": 33,
   "metadata": {},
   "outputs": [
    {
     "data": {
      "text/plain": [
       "Index(['recipe_id', 'cluster'], dtype='object')"
      ]
     },
     "execution_count": 33,
     "metadata": {},
     "output_type": "execute_result"
    }
   ],
   "source": [
    "labeled_recipes.rename(columns={\"id\": \"recipe_id\", 0: \"cluster\"}, inplace=True)\n",
    "labeled_recipes.columns"
   ]
  },
  {
   "cell_type": "code",
   "execution_count": 34,
   "metadata": {},
   "outputs": [
    {
     "data": {
      "text/plain": [
       "array([ 8,  4,  9,  3,  1,  0,  5, 10,  6,  7, 11,  2], dtype=int32)"
      ]
     },
     "execution_count": 34,
     "metadata": {},
     "output_type": "execute_result"
    }
   ],
   "source": [
    "labeled_recipes[\"cluster\"].unique()"
   ]
  },
  {
   "cell_type": "code",
   "execution_count": 35,
   "metadata": {},
   "outputs": [
    {
     "data": {
      "text/plain": [
       "cluster\n",
       "9     39538\n",
       "7     18889\n",
       "3     18225\n",
       "0     16407\n",
       "10    15395\n",
       "8     14377\n",
       "5     13932\n",
       "1     13470\n",
       "4     11022\n",
       "11     5998\n",
       "6      5632\n",
       "2      5380\n",
       "Name: count, dtype: int64"
      ]
     },
     "execution_count": 35,
     "metadata": {},
     "output_type": "execute_result"
    }
   ],
   "source": [
    "labeled_recipes[\"cluster\"].value_counts()"
   ]
  },
  {
   "cell_type": "markdown",
   "metadata": {},
   "source": [
    "---\n",
    "## add cluster labels to raw recipes"
   ]
  },
  {
   "cell_type": "code",
   "execution_count": 36,
   "metadata": {},
   "outputs": [
    {
     "data": {
      "text/plain": [
       "(231637, 12)"
      ]
     },
     "execution_count": 36,
     "metadata": {},
     "output_type": "execute_result"
    }
   ],
   "source": [
    "raw_recipes = pd.read_csv(\"data/kaggle_food_dot_com/RAW_recipes.csv\")\n",
    "raw_recipes.shape"
   ]
  },
  {
   "cell_type": "code",
   "execution_count": 37,
   "metadata": {},
   "outputs": [
    {
     "data": {
      "text/plain": [
       "Index(['name', 'id', 'minutes', 'contributor_id', 'submitted', 'tags',\n",
       "       'nutrition', 'n_steps', 'steps', 'description', 'ingredients',\n",
       "       'n_ingredients'],\n",
       "      dtype='object')"
      ]
     },
     "execution_count": 37,
     "metadata": {},
     "output_type": "execute_result"
    }
   ],
   "source": [
    "raw_recipes.columns"
   ]
  },
  {
   "cell_type": "code",
   "execution_count": 38,
   "metadata": {},
   "outputs": [
    {
     "data": {
      "text/plain": [
       "True"
      ]
     },
     "execution_count": 38,
     "metadata": {},
     "output_type": "execute_result"
    }
   ],
   "source": [
    "# just checking\n",
    "set(labeled_recipes[\"recipe_id\"]).issubset(set(raw_recipes[\"id\"]))"
   ]
  },
  {
   "cell_type": "code",
   "execution_count": 39,
   "metadata": {},
   "outputs": [],
   "source": [
    "labeled_recipes = pd.merge(left=labeled_recipes, right=raw_recipes, left_on=\"recipe_id\", right_on=\"id\", how=\"inner\")"
   ]
  },
  {
   "cell_type": "code",
   "execution_count": 40,
   "metadata": {},
   "outputs": [
    {
     "data": {
      "text/plain": [
       "Index(['recipe_id', 'cluster', 'name', 'id', 'minutes', 'contributor_id',\n",
       "       'submitted', 'tags', 'nutrition', 'n_steps', 'steps', 'description',\n",
       "       'ingredients', 'n_ingredients'],\n",
       "      dtype='object')"
      ]
     },
     "execution_count": 40,
     "metadata": {},
     "output_type": "execute_result"
    }
   ],
   "source": [
    "labeled_recipes.columns"
   ]
  },
  {
   "cell_type": "code",
   "execution_count": 41,
   "metadata": {},
   "outputs": [],
   "source": [
    "labeled_recipes.drop(columns=[\"id\", \"contributor_id\", \"submitted\", \"nutrition\"], inplace=True)"
   ]
  },
  {
   "cell_type": "code",
   "execution_count": 42,
   "metadata": {},
   "outputs": [
    {
     "data": {
      "text/html": [
       "<div>\n",
       "<style scoped>\n",
       "    .dataframe tbody tr th:only-of-type {\n",
       "        vertical-align: middle;\n",
       "    }\n",
       "\n",
       "    .dataframe tbody tr th {\n",
       "        vertical-align: top;\n",
       "    }\n",
       "\n",
       "    .dataframe thead th {\n",
       "        text-align: right;\n",
       "    }\n",
       "</style>\n",
       "<table border=\"1\" class=\"dataframe\">\n",
       "  <thead>\n",
       "    <tr style=\"text-align: right;\">\n",
       "      <th></th>\n",
       "      <th>recipe_id</th>\n",
       "      <th>cluster</th>\n",
       "      <th>name</th>\n",
       "      <th>minutes</th>\n",
       "      <th>tags</th>\n",
       "      <th>n_steps</th>\n",
       "      <th>steps</th>\n",
       "      <th>description</th>\n",
       "      <th>ingredients</th>\n",
       "      <th>n_ingredients</th>\n",
       "    </tr>\n",
       "  </thead>\n",
       "  <tbody>\n",
       "    <tr>\n",
       "      <th>0</th>\n",
       "      <td>424415</td>\n",
       "      <td>8</td>\n",
       "      <td>aromatic basmati rice  rice cooker</td>\n",
       "      <td>61</td>\n",
       "      <td>['weeknight', 'time-to-make', 'course', 'main-...</td>\n",
       "      <td>6</td>\n",
       "      <td>['rinse the rice in a fine strainer , then dra...</td>\n",
       "      <td>from the ultimate rice cooker cookbook.  the a...</td>\n",
       "      <td>['basmati rice', 'water', 'salt', 'cinnamon st...</td>\n",
       "      <td>5</td>\n",
       "    </tr>\n",
       "    <tr>\n",
       "      <th>1</th>\n",
       "      <td>146223</td>\n",
       "      <td>4</td>\n",
       "      <td>pumpkin pie a la easy</td>\n",
       "      <td>55</td>\n",
       "      <td>['60-minutes-or-less', 'time-to-make', 'course...</td>\n",
       "      <td>10</td>\n",
       "      <td>['preheat oven to 350', 'combine flour , oats ...</td>\n",
       "      <td>this is a pampered chef recipe for their stone...</td>\n",
       "      <td>['flour', 'oats', 'brown sugar', 'pecans', 'bu...</td>\n",
       "      <td>12</td>\n",
       "    </tr>\n",
       "    <tr>\n",
       "      <th>2</th>\n",
       "      <td>312329</td>\n",
       "      <td>8</td>\n",
       "      <td>cheesy tomato soup with potatoes</td>\n",
       "      <td>25</td>\n",
       "      <td>['30-minutes-or-less', 'time-to-make', 'course...</td>\n",
       "      <td>6</td>\n",
       "      <td>['pour the broth &amp; water into a large pot', 'a...</td>\n",
       "      <td>after modifying another recipe i came up with ...</td>\n",
       "      <td>['chicken broth', 'water', 'salt', 'black pepp...</td>\n",
       "      <td>15</td>\n",
       "    </tr>\n",
       "    <tr>\n",
       "      <th>3</th>\n",
       "      <td>74301</td>\n",
       "      <td>9</td>\n",
       "      <td>mini tacos</td>\n",
       "      <td>15</td>\n",
       "      <td>['15-minutes-or-less', 'time-to-make', 'course...</td>\n",
       "      <td>8</td>\n",
       "      <td>['cook hamburger until browned', 'drain the fa...</td>\n",
       "      <td>these can be a easy appetizer or a light dinne...</td>\n",
       "      <td>['wonton wrappers', 'hamburger', 'taco seasoni...</td>\n",
       "      <td>8</td>\n",
       "    </tr>\n",
       "    <tr>\n",
       "      <th>4</th>\n",
       "      <td>76272</td>\n",
       "      <td>9</td>\n",
       "      <td>rosemary s hanky panky s</td>\n",
       "      <td>20</td>\n",
       "      <td>['30-minutes-or-less', 'time-to-make', 'course...</td>\n",
       "      <td>5</td>\n",
       "      <td>['fry ground beef and sausage until browned', ...</td>\n",
       "      <td>my girlfriend rosemary gave me this wonderfull...</td>\n",
       "      <td>['ground beef', 'ground sausage', 'velveeta ch...</td>\n",
       "      <td>4</td>\n",
       "    </tr>\n",
       "  </tbody>\n",
       "</table>\n",
       "</div>"
      ],
      "text/plain": [
       "   recipe_id  cluster                                name  minutes  \\\n",
       "0     424415        8  aromatic basmati rice  rice cooker       61   \n",
       "1     146223        4               pumpkin pie a la easy       55   \n",
       "2     312329        8    cheesy tomato soup with potatoes       25   \n",
       "3      74301        9                          mini tacos       15   \n",
       "4      76272        9            rosemary s hanky panky s       20   \n",
       "\n",
       "                                                tags  n_steps  \\\n",
       "0  ['weeknight', 'time-to-make', 'course', 'main-...        6   \n",
       "1  ['60-minutes-or-less', 'time-to-make', 'course...       10   \n",
       "2  ['30-minutes-or-less', 'time-to-make', 'course...        6   \n",
       "3  ['15-minutes-or-less', 'time-to-make', 'course...        8   \n",
       "4  ['30-minutes-or-less', 'time-to-make', 'course...        5   \n",
       "\n",
       "                                               steps  \\\n",
       "0  ['rinse the rice in a fine strainer , then dra...   \n",
       "1  ['preheat oven to 350', 'combine flour , oats ...   \n",
       "2  ['pour the broth & water into a large pot', 'a...   \n",
       "3  ['cook hamburger until browned', 'drain the fa...   \n",
       "4  ['fry ground beef and sausage until browned', ...   \n",
       "\n",
       "                                         description  \\\n",
       "0  from the ultimate rice cooker cookbook.  the a...   \n",
       "1  this is a pampered chef recipe for their stone...   \n",
       "2  after modifying another recipe i came up with ...   \n",
       "3  these can be a easy appetizer or a light dinne...   \n",
       "4  my girlfriend rosemary gave me this wonderfull...   \n",
       "\n",
       "                                         ingredients  n_ingredients  \n",
       "0  ['basmati rice', 'water', 'salt', 'cinnamon st...              5  \n",
       "1  ['flour', 'oats', 'brown sugar', 'pecans', 'bu...             12  \n",
       "2  ['chicken broth', 'water', 'salt', 'black pepp...             15  \n",
       "3  ['wonton wrappers', 'hamburger', 'taco seasoni...              8  \n",
       "4  ['ground beef', 'ground sausage', 'velveeta ch...              4  "
      ]
     },
     "execution_count": 42,
     "metadata": {},
     "output_type": "execute_result"
    }
   ],
   "source": [
    "labeled_recipes.head()"
   ]
  },
  {
   "cell_type": "code",
   "execution_count": 43,
   "metadata": {},
   "outputs": [
    {
     "data": {
      "text/plain": [
       "\"['basmati rice', 'water', 'salt', 'cinnamon stick', 'green cardamom pods']\""
      ]
     },
     "execution_count": 43,
     "metadata": {},
     "output_type": "execute_result"
    }
   ],
   "source": [
    "labeled_recipes[\"ingredients\"][0]"
   ]
  },
  {
   "cell_type": "markdown",
   "metadata": {},
   "source": [
    "## more regex for getting data to lists"
   ]
  },
  {
   "cell_type": "code",
   "execution_count": 44,
   "metadata": {},
   "outputs": [
    {
     "data": {
      "text/plain": [
       "['basmati rice', 'water', 'salt', 'cinnamon stick', 'green cardamom pods']"
      ]
     },
     "execution_count": 44,
     "metadata": {},
     "output_type": "execute_result"
    }
   ],
   "source": [
    "# for now, we'll assume that ingredients do not have any \"-\" in them\n",
    "re.findall(r\"\\b[\\w\\s]+\", labeled_recipes[\"ingredients\"][0])"
   ]
  },
  {
   "cell_type": "code",
   "execution_count": 45,
   "metadata": {},
   "outputs": [
    {
     "data": {
      "text/plain": [
       "['weeknight',\n",
       " 'time-to-make',\n",
       " 'course',\n",
       " 'main-ingredient',\n",
       " 'cuisine',\n",
       " 'preparation',\n",
       " 'occasion',\n",
       " '5-ingredients-or-less',\n",
       " 'side-dishes',\n",
       " 'rice',\n",
       " 'asian',\n",
       " 'indian',\n",
       " 'easy',\n",
       " 'vegan',\n",
       " 'vegetarian',\n",
       " 'dietary',\n",
       " 'pasta-rice-and-grains',\n",
       " '4-hours-or-less']"
      ]
     },
     "execution_count": 45,
     "metadata": {},
     "output_type": "execute_result"
    }
   ],
   "source": [
    "# and we'll assume that tags have no spaces\n",
    "re.findall(r\"\\b[\\w+-?]+\", labeled_recipes[\"tags\"][0])"
   ]
  },
  {
   "cell_type": "code",
   "execution_count": 46,
   "metadata": {},
   "outputs": [],
   "source": [
    "def get_indredients(string_list):\n",
    "    return re.findall(r\"\\b[\\w\\s]+\", string_list)\n",
    "\n",
    "labeled_recipes[\"ingredients\"] = labeled_recipes[\"ingredients\"].apply(get_indredients)"
   ]
  },
  {
   "cell_type": "code",
   "execution_count": 47,
   "metadata": {},
   "outputs": [],
   "source": [
    "def get_tags(string_list):\n",
    "    return re.findall(r\"\\b[\\w+-?]+\", string_list)\n",
    "\n",
    "labeled_recipes[\"tags\"] = labeled_recipes[\"tags\"].apply(get_tags)"
   ]
  },
  {
   "cell_type": "code",
   "execution_count": 48,
   "metadata": {},
   "outputs": [
    {
     "data": {
      "text/plain": [
       "['basmati rice', 'water', 'salt', 'cinnamon stick', 'green cardamom pods']"
      ]
     },
     "execution_count": 48,
     "metadata": {},
     "output_type": "execute_result"
    }
   ],
   "source": [
    "labeled_recipes[\"ingredients\"][0]"
   ]
  },
  {
   "cell_type": "code",
   "execution_count": 49,
   "metadata": {},
   "outputs": [
    {
     "data": {
      "text/html": [
       "<div>\n",
       "<style scoped>\n",
       "    .dataframe tbody tr th:only-of-type {\n",
       "        vertical-align: middle;\n",
       "    }\n",
       "\n",
       "    .dataframe tbody tr th {\n",
       "        vertical-align: top;\n",
       "    }\n",
       "\n",
       "    .dataframe thead th {\n",
       "        text-align: right;\n",
       "    }\n",
       "</style>\n",
       "<table border=\"1\" class=\"dataframe\">\n",
       "  <thead>\n",
       "    <tr style=\"text-align: right;\">\n",
       "      <th></th>\n",
       "      <th>name</th>\n",
       "      <th>ingredients</th>\n",
       "      <th>tags</th>\n",
       "    </tr>\n",
       "  </thead>\n",
       "  <tbody>\n",
       "    <tr>\n",
       "      <th>0</th>\n",
       "      <td>aromatic basmati rice  rice cooker</td>\n",
       "      <td>[basmati rice, water, salt, cinnamon stick, gr...</td>\n",
       "      <td>[weeknight, time-to-make, course, main-ingredi...</td>\n",
       "    </tr>\n",
       "    <tr>\n",
       "      <th>1</th>\n",
       "      <td>pumpkin pie a la easy</td>\n",
       "      <td>[flour, oats, brown sugar, pecans, butter, egg...</td>\n",
       "      <td>[60-minutes-or-less, time-to-make, course, pre...</td>\n",
       "    </tr>\n",
       "    <tr>\n",
       "      <th>2</th>\n",
       "      <td>cheesy tomato soup with potatoes</td>\n",
       "      <td>[chicken broth, water, salt, black pepper, oni...</td>\n",
       "      <td>[30-minutes-or-less, time-to-make, course, mai...</td>\n",
       "    </tr>\n",
       "    <tr>\n",
       "      <th>3</th>\n",
       "      <td>mini tacos</td>\n",
       "      <td>[wonton wrappers, hamburger, taco seasoning, s...</td>\n",
       "      <td>[15-minutes-or-less, time-to-make, course, mai...</td>\n",
       "    </tr>\n",
       "    <tr>\n",
       "      <th>4</th>\n",
       "      <td>rosemary s hanky panky s</td>\n",
       "      <td>[ground beef, ground sausage, velveeta cheese,...</td>\n",
       "      <td>[30-minutes-or-less, time-to-make, course, pre...</td>\n",
       "    </tr>\n",
       "  </tbody>\n",
       "</table>\n",
       "</div>"
      ],
      "text/plain": [
       "                                 name  \\\n",
       "0  aromatic basmati rice  rice cooker   \n",
       "1               pumpkin pie a la easy   \n",
       "2    cheesy tomato soup with potatoes   \n",
       "3                          mini tacos   \n",
       "4            rosemary s hanky panky s   \n",
       "\n",
       "                                         ingredients  \\\n",
       "0  [basmati rice, water, salt, cinnamon stick, gr...   \n",
       "1  [flour, oats, brown sugar, pecans, butter, egg...   \n",
       "2  [chicken broth, water, salt, black pepper, oni...   \n",
       "3  [wonton wrappers, hamburger, taco seasoning, s...   \n",
       "4  [ground beef, ground sausage, velveeta cheese,...   \n",
       "\n",
       "                                                tags  \n",
       "0  [weeknight, time-to-make, course, main-ingredi...  \n",
       "1  [60-minutes-or-less, time-to-make, course, pre...  \n",
       "2  [30-minutes-or-less, time-to-make, course, mai...  \n",
       "3  [15-minutes-or-less, time-to-make, course, mai...  \n",
       "4  [30-minutes-or-less, time-to-make, course, pre...  "
      ]
     },
     "execution_count": 49,
     "metadata": {},
     "output_type": "execute_result"
    }
   ],
   "source": [
    "labeled_recipes[[\"name\", \"ingredients\", \"tags\"]].head()"
   ]
  },
  {
   "cell_type": "code",
   "execution_count": 50,
   "metadata": {},
   "outputs": [
    {
     "data": {
      "text/plain": [
       "array(['weeknight', 'time-to-make', 'course', 'main-ingredient',\n",
       "       'cuisine', 'preparation', 'occasion', '5-ingredients-or-less',\n",
       "       'side-dishes', 'rice', 'asian', 'indian', 'easy', 'vegan',\n",
       "       'vegetarian', 'dietary', 'pasta-rice-and-grains',\n",
       "       '4-hours-or-less', '60-minutes-or-less', 'for-large-groups'],\n",
       "      dtype=object)"
      ]
     },
     "execution_count": 50,
     "metadata": {},
     "output_type": "execute_result"
    }
   ],
   "source": [
    "# trying this again now that I have actual lists\n",
    "labeled_recipes[\"tags\"].explode().unique()[:20]"
   ]
  },
  {
   "cell_type": "code",
   "execution_count": 51,
   "metadata": {},
   "outputs": [
    {
     "data": {
      "text/plain": [
       "5380"
      ]
     },
     "execution_count": 51,
     "metadata": {},
     "output_type": "execute_result"
    }
   ],
   "source": [
    "sm_cluster = labeled_recipes.loc[labeled_recipes[\"cluster\"] == labeled_recipes[\"cluster\"].value_counts().idxmin()]\n",
    "sm_cluster.shape[0]"
   ]
  },
  {
   "cell_type": "code",
   "execution_count": 52,
   "metadata": {},
   "outputs": [
    {
     "data": {
      "text/html": [
       "<div>\n",
       "<style scoped>\n",
       "    .dataframe tbody tr th:only-of-type {\n",
       "        vertical-align: middle;\n",
       "    }\n",
       "\n",
       "    .dataframe tbody tr th {\n",
       "        vertical-align: top;\n",
       "    }\n",
       "\n",
       "    .dataframe thead th {\n",
       "        text-align: right;\n",
       "    }\n",
       "</style>\n",
       "<table border=\"1\" class=\"dataframe\">\n",
       "  <thead>\n",
       "    <tr style=\"text-align: right;\">\n",
       "      <th></th>\n",
       "      <th>recipe_id</th>\n",
       "      <th>cluster</th>\n",
       "      <th>name</th>\n",
       "      <th>minutes</th>\n",
       "      <th>tags</th>\n",
       "      <th>n_steps</th>\n",
       "      <th>steps</th>\n",
       "      <th>description</th>\n",
       "      <th>ingredients</th>\n",
       "      <th>n_ingredients</th>\n",
       "    </tr>\n",
       "  </thead>\n",
       "  <tbody>\n",
       "    <tr>\n",
       "      <th>40</th>\n",
       "      <td>227025</td>\n",
       "      <td>2</td>\n",
       "      <td>orange  yogurt</td>\n",
       "      <td>10</td>\n",
       "      <td>[15-minutes-or-less, time-to-make, course, mai...</td>\n",
       "      <td>6</td>\n",
       "      <td>['line a sieve or colander with cheesecloth or...</td>\n",
       "      <td>a lovely recipe from the barefoot contessa tha...</td>\n",
       "      <td>[plain yogurt, raisins, walnuts, pure vanilla ...</td>\n",
       "      <td>9</td>\n",
       "    </tr>\n",
       "    <tr>\n",
       "      <th>50</th>\n",
       "      <td>275826</td>\n",
       "      <td>2</td>\n",
       "      <td>baklava latte</td>\n",
       "      <td>5</td>\n",
       "      <td>[15-minutes-or-less, time-to-make, course, pre...</td>\n",
       "      <td>3</td>\n",
       "      <td>['in a 10-ounce cup , combine syrups , honey a...</td>\n",
       "      <td>from the cappuccino espresso the book of bever...</td>\n",
       "      <td>[praline syrup, hazelnut syrup, maple syrup, l...</td>\n",
       "      <td>9</td>\n",
       "    </tr>\n",
       "    <tr>\n",
       "      <th>67</th>\n",
       "      <td>305393</td>\n",
       "      <td>2</td>\n",
       "      <td>ancient sweet with honey</td>\n",
       "      <td>65</td>\n",
       "      <td>[time-to-make, course, main-ingredient, cuisin...</td>\n",
       "      <td>9</td>\n",
       "      <td>['grind the sesame', 'grease a cake pan and sp...</td>\n",
       "      <td>this is an ancient greek recipe taken from the...</td>\n",
       "      <td>[flour, almonds, walnuts, honey, eggs, sesame]</td>\n",
       "      <td>6</td>\n",
       "    </tr>\n",
       "    <tr>\n",
       "      <th>86</th>\n",
       "      <td>92023</td>\n",
       "      <td>2</td>\n",
       "      <td>triple decker honey peanut butter brownies</td>\n",
       "      <td>45</td>\n",
       "      <td>[60-minutes-or-less, time-to-make, course, pre...</td>\n",
       "      <td>15</td>\n",
       "      <td>['oven@ 350 line a 7x11 inch pan with aluminum...</td>\n",
       "      <td>the name is a mouth-ful but this is an easy re...</td>\n",
       "      <td>[peanut butter, honey, brownie mix, vegetable ...</td>\n",
       "      <td>8</td>\n",
       "    </tr>\n",
       "    <tr>\n",
       "      <th>162</th>\n",
       "      <td>23469</td>\n",
       "      <td>2</td>\n",
       "      <td>balsamic chicken and veggies</td>\n",
       "      <td>30</td>\n",
       "      <td>[30-minutes-or-less, time-to-make, course, mai...</td>\n",
       "      <td>11</td>\n",
       "      <td>['stir together salad dressing , vinegar , hon...</td>\n",
       "      <td>excellant italian chicken dish! nice to sprink...</td>\n",
       "      <td>[italian salad dressing, balsamic vinegar, hon...</td>\n",
       "      <td>9</td>\n",
       "    </tr>\n",
       "  </tbody>\n",
       "</table>\n",
       "</div>"
      ],
      "text/plain": [
       "     recipe_id  cluster                                        name  minutes  \\\n",
       "40      227025        2                              orange  yogurt       10   \n",
       "50      275826        2                               baklava latte        5   \n",
       "67      305393        2                    ancient sweet with honey       65   \n",
       "86       92023        2  triple decker honey peanut butter brownies       45   \n",
       "162      23469        2                balsamic chicken and veggies       30   \n",
       "\n",
       "                                                  tags  n_steps  \\\n",
       "40   [15-minutes-or-less, time-to-make, course, mai...        6   \n",
       "50   [15-minutes-or-less, time-to-make, course, pre...        3   \n",
       "67   [time-to-make, course, main-ingredient, cuisin...        9   \n",
       "86   [60-minutes-or-less, time-to-make, course, pre...       15   \n",
       "162  [30-minutes-or-less, time-to-make, course, mai...       11   \n",
       "\n",
       "                                                 steps  \\\n",
       "40   ['line a sieve or colander with cheesecloth or...   \n",
       "50   ['in a 10-ounce cup , combine syrups , honey a...   \n",
       "67   ['grind the sesame', 'grease a cake pan and sp...   \n",
       "86   ['oven@ 350 line a 7x11 inch pan with aluminum...   \n",
       "162  ['stir together salad dressing , vinegar , hon...   \n",
       "\n",
       "                                           description  \\\n",
       "40   a lovely recipe from the barefoot contessa tha...   \n",
       "50   from the cappuccino espresso the book of bever...   \n",
       "67   this is an ancient greek recipe taken from the...   \n",
       "86   the name is a mouth-ful but this is an easy re...   \n",
       "162  excellant italian chicken dish! nice to sprink...   \n",
       "\n",
       "                                           ingredients  n_ingredients  \n",
       "40   [plain yogurt, raisins, walnuts, pure vanilla ...              9  \n",
       "50   [praline syrup, hazelnut syrup, maple syrup, l...              9  \n",
       "67      [flour, almonds, walnuts, honey, eggs, sesame]              6  \n",
       "86   [peanut butter, honey, brownie mix, vegetable ...              8  \n",
       "162  [italian salad dressing, balsamic vinegar, hon...              9  "
      ]
     },
     "execution_count": 52,
     "metadata": {},
     "output_type": "execute_result"
    }
   ],
   "source": [
    "sm_cluster.head()"
   ]
  },
  {
   "cell_type": "markdown",
   "metadata": {},
   "source": [
    "---\n",
    "## predict cluster for a new recipe\n",
    "\n",
    "### fetch some recipes from the Edamam API"
   ]
  },
  {
   "cell_type": "code",
   "execution_count": 53,
   "metadata": {},
   "outputs": [],
   "source": [
    "# fetch api key from secrets.json file\n",
    "with open(\"secrets.json\", \"rb\") as f:\n",
    "    key_file = json.loads(f.read())\n",
    "\n",
    "app_id = key_file[\"app_id\"]\n",
    "app_key = key_file[\"key\"]"
   ]
  },
  {
   "cell_type": "code",
   "execution_count": 86,
   "metadata": {},
   "outputs": [],
   "source": [
    "ingr_test = [\"tomato sauce\", \"mushrooms\"]\n",
    "num_ingr_test = (3, 12)"
   ]
  },
  {
   "cell_type": "code",
   "execution_count": 87,
   "metadata": {},
   "outputs": [
    {
     "name": "stdout",
     "output_type": "stream",
     "text": [
      "200\n"
     ]
    }
   ],
   "source": [
    "res = get_recipes.get_recipes(ingr=ingr_test, num_ingr=num_ingr_test, app_id=app_id, app_key=app_key)"
   ]
  },
  {
   "cell_type": "code",
   "execution_count": 88,
   "metadata": {},
   "outputs": [
    {
     "data": {
      "text/plain": [
       "Index(['title', 'link', 'servings', 'cuisine', 'diet_labels', 'healh_labels',\n",
       "       'cautions', 'ingredient_lines', 'ingredient_details',\n",
       "       'ingredient_labels'],\n",
       "      dtype='object')"
      ]
     },
     "execution_count": 88,
     "metadata": {},
     "output_type": "execute_result"
    }
   ],
   "source": [
    "res.columns"
   ]
  },
  {
   "cell_type": "code",
   "execution_count": 89,
   "metadata": {},
   "outputs": [
    {
     "data": {
      "text/html": [
       "<div>\n",
       "<style scoped>\n",
       "    .dataframe tbody tr th:only-of-type {\n",
       "        vertical-align: middle;\n",
       "    }\n",
       "\n",
       "    .dataframe tbody tr th {\n",
       "        vertical-align: top;\n",
       "    }\n",
       "\n",
       "    .dataframe thead th {\n",
       "        text-align: right;\n",
       "    }\n",
       "</style>\n",
       "<table border=\"1\" class=\"dataframe\">\n",
       "  <thead>\n",
       "    <tr style=\"text-align: right;\">\n",
       "      <th></th>\n",
       "      <th>title</th>\n",
       "      <th>ingredient_lines</th>\n",
       "      <th>ingredient_labels</th>\n",
       "    </tr>\n",
       "  </thead>\n",
       "  <tbody>\n",
       "    <tr>\n",
       "      <th>0</th>\n",
       "      <td>Dinner Tonight: Spaghetti alla Boscaiola (Spag...</td>\n",
       "      <td>[1 pound spaghetti, 3 tablespoons olive oil, p...</td>\n",
       "      <td>[spaghetti, olive oil, plum tomatoes, garlic, ...</td>\n",
       "    </tr>\n",
       "    <tr>\n",
       "      <th>1</th>\n",
       "      <td>Chicken with Tomatoes and Mushrooms</td>\n",
       "      <td>[4 boneless, skinless chicken breast halves, a...</td>\n",
       "      <td>[boneless, skinless chicken breast, Coarse sal...</td>\n",
       "    </tr>\n",
       "    <tr>\n",
       "      <th>2</th>\n",
       "      <td>Zucchini Cannelloni with Cashew sauce</td>\n",
       "      <td>[2 pieces zucchini, 400 grams mushrooms, 1 pie...</td>\n",
       "      <td>[zucchini, mushrooms, onion, garlic, cashew nu...</td>\n",
       "    </tr>\n",
       "    <tr>\n",
       "      <th>3</th>\n",
       "      <td>Tomato and Sausage Tortellini</td>\n",
       "      <td>[1 (19 ounce) package frozen cheese tortellini...</td>\n",
       "      <td>[cheese tortellini, olive oil, black pepper, k...</td>\n",
       "    </tr>\n",
       "    <tr>\n",
       "      <th>4</th>\n",
       "      <td>Mushrooms paprikash</td>\n",
       "      <td>[½ tsp caraway seed, 1 tbsp olive oil, 1 onion...</td>\n",
       "      <td>[caraway seed, olive oil, onion, mushroom, gre...</td>\n",
       "    </tr>\n",
       "  </tbody>\n",
       "</table>\n",
       "</div>"
      ],
      "text/plain": [
       "                                               title  \\\n",
       "0  Dinner Tonight: Spaghetti alla Boscaiola (Spag...   \n",
       "1                Chicken with Tomatoes and Mushrooms   \n",
       "2              Zucchini Cannelloni with Cashew sauce   \n",
       "3                      Tomato and Sausage Tortellini   \n",
       "4                                Mushrooms paprikash   \n",
       "\n",
       "                                    ingredient_lines  \\\n",
       "0  [1 pound spaghetti, 3 tablespoons olive oil, p...   \n",
       "1  [4 boneless, skinless chicken breast halves, a...   \n",
       "2  [2 pieces zucchini, 400 grams mushrooms, 1 pie...   \n",
       "3  [1 (19 ounce) package frozen cheese tortellini...   \n",
       "4  [½ tsp caraway seed, 1 tbsp olive oil, 1 onion...   \n",
       "\n",
       "                                   ingredient_labels  \n",
       "0  [spaghetti, olive oil, plum tomatoes, garlic, ...  \n",
       "1  [boneless, skinless chicken breast, Coarse sal...  \n",
       "2  [zucchini, mushrooms, onion, garlic, cashew nu...  \n",
       "3  [cheese tortellini, olive oil, black pepper, k...  \n",
       "4  [caraway seed, olive oil, onion, mushroom, gre...  "
      ]
     },
     "execution_count": 89,
     "metadata": {},
     "output_type": "execute_result"
    }
   ],
   "source": [
    "res[[\"title\", \"ingredient_lines\", \"ingredient_labels\"]].head()"
   ]
  },
  {
   "cell_type": "markdown",
   "metadata": {},
   "source": [
    "### map recipe ingredients to ingredient codes\n",
    "- uses string matching on the ingredients from a recipe to map them the ingredient ids (tokens) in the food.com data\n",
    "- some ingredients appear multiple times in that mapping table, with different variations, see the cell below for \"lettuce\"\n",
    "- in most of the cases I saw, where an ingredients appeared multiple times, all the instances had the same id code in map_df"
   ]
  },
  {
   "cell_type": "code",
   "execution_count": 108,
   "metadata": {},
   "outputs": [
    {
     "data": {
      "text/plain": [
       "['spaghetti',\n",
       " 'olive oil',\n",
       " 'plum tomatoes',\n",
       " 'garlic',\n",
       " 'mushrooms',\n",
       " 'parsley',\n",
       " 'Salt',\n",
       " 'pepper']"
      ]
     },
     "execution_count": 108,
     "metadata": {},
     "output_type": "execute_result"
    }
   ],
   "source": [
    "# list of ingredients for first recipe returned from the API\n",
    "res[\"ingredient_labels\"][0]"
   ]
  },
  {
   "cell_type": "code",
   "execution_count": 109,
   "metadata": {},
   "outputs": [
    {
     "data": {
      "text/html": [
       "<div>\n",
       "<style scoped>\n",
       "    .dataframe tbody tr th:only-of-type {\n",
       "        vertical-align: middle;\n",
       "    }\n",
       "\n",
       "    .dataframe tbody tr th {\n",
       "        vertical-align: top;\n",
       "    }\n",
       "\n",
       "    .dataframe thead th {\n",
       "        text-align: right;\n",
       "    }\n",
       "</style>\n",
       "<table border=\"1\" class=\"dataframe\">\n",
       "  <thead>\n",
       "    <tr style=\"text-align: right;\">\n",
       "      <th></th>\n",
       "      <th>raw_ingr</th>\n",
       "      <th>raw_words</th>\n",
       "      <th>processed</th>\n",
       "      <th>len_proc</th>\n",
       "      <th>replaced</th>\n",
       "      <th>count</th>\n",
       "      <th>id</th>\n",
       "    </tr>\n",
       "  </thead>\n",
       "  <tbody>\n",
       "    <tr>\n",
       "      <th>0</th>\n",
       "      <td>medium heads bibb or red leaf lettuce, washed,...</td>\n",
       "      <td>13</td>\n",
       "      <td>medium heads bibb or red leaf lettuce, washed,...</td>\n",
       "      <td>73</td>\n",
       "      <td>lettuce</td>\n",
       "      <td>4507</td>\n",
       "      <td>4308</td>\n",
       "    </tr>\n",
       "    <tr>\n",
       "      <th>1</th>\n",
       "      <td>mixed baby lettuces and spring greens</td>\n",
       "      <td>6</td>\n",
       "      <td>mixed baby lettuces and spring green</td>\n",
       "      <td>36</td>\n",
       "      <td>lettuce</td>\n",
       "      <td>4507</td>\n",
       "      <td>4308</td>\n",
       "    </tr>\n",
       "    <tr>\n",
       "      <th>2</th>\n",
       "      <td>romaine lettuce leaf</td>\n",
       "      <td>3</td>\n",
       "      <td>romaine lettuce leaf</td>\n",
       "      <td>20</td>\n",
       "      <td>lettuce</td>\n",
       "      <td>4507</td>\n",
       "      <td>4308</td>\n",
       "    </tr>\n",
       "  </tbody>\n",
       "</table>\n",
       "</div>"
      ],
      "text/plain": [
       "                                            raw_ingr  raw_words  \\\n",
       "0  medium heads bibb or red leaf lettuce, washed,...         13   \n",
       "1              mixed baby lettuces and spring greens          6   \n",
       "2                               romaine lettuce leaf          3   \n",
       "\n",
       "                                           processed  len_proc replaced  \\\n",
       "0  medium heads bibb or red leaf lettuce, washed,...        73  lettuce   \n",
       "1               mixed baby lettuces and spring green        36  lettuce   \n",
       "2                               romaine lettuce leaf        20  lettuce   \n",
       "\n",
       "   count    id  \n",
       "0   4507  4308  \n",
       "1   4507  4308  \n",
       "2   4507  4308  "
      ]
     },
     "execution_count": 109,
     "metadata": {},
     "output_type": "execute_result"
    }
   ],
   "source": [
    "# reminder of what map_df looks like\n",
    "map_df.head(3)"
   ]
  },
  {
   "cell_type": "code",
   "execution_count": 92,
   "metadata": {},
   "outputs": [
    {
     "data": {
      "text/plain": [
       "4308"
      ]
     },
     "execution_count": 92,
     "metadata": {},
     "output_type": "execute_result"
    }
   ],
   "source": [
    "map_df.loc[map_df[\"replaced\"] == \"lettuce\"][\"id\"][0]"
   ]
  },
  {
   "cell_type": "code",
   "execution_count": 110,
   "metadata": {},
   "outputs": [
    {
     "data": {
      "text/html": [
       "<div>\n",
       "<style scoped>\n",
       "    .dataframe tbody tr th:only-of-type {\n",
       "        vertical-align: middle;\n",
       "    }\n",
       "\n",
       "    .dataframe tbody tr th {\n",
       "        vertical-align: top;\n",
       "    }\n",
       "\n",
       "    .dataframe thead th {\n",
       "        text-align: right;\n",
       "    }\n",
       "</style>\n",
       "<table border=\"1\" class=\"dataframe\">\n",
       "  <thead>\n",
       "    <tr style=\"text-align: right;\">\n",
       "      <th></th>\n",
       "      <th>raw_ingr</th>\n",
       "      <th>raw_words</th>\n",
       "      <th>processed</th>\n",
       "      <th>len_proc</th>\n",
       "      <th>replaced</th>\n",
       "      <th>count</th>\n",
       "      <th>id</th>\n",
       "    </tr>\n",
       "  </thead>\n",
       "  <tbody>\n",
       "    <tr>\n",
       "      <th>0</th>\n",
       "      <td>medium heads bibb or red leaf lettuce, washed,...</td>\n",
       "      <td>13</td>\n",
       "      <td>medium heads bibb or red leaf lettuce, washed,...</td>\n",
       "      <td>73</td>\n",
       "      <td>lettuce</td>\n",
       "      <td>4507</td>\n",
       "      <td>4308</td>\n",
       "    </tr>\n",
       "    <tr>\n",
       "      <th>1</th>\n",
       "      <td>mixed baby lettuces and spring greens</td>\n",
       "      <td>6</td>\n",
       "      <td>mixed baby lettuces and spring green</td>\n",
       "      <td>36</td>\n",
       "      <td>lettuce</td>\n",
       "      <td>4507</td>\n",
       "      <td>4308</td>\n",
       "    </tr>\n",
       "    <tr>\n",
       "      <th>2</th>\n",
       "      <td>romaine lettuce leaf</td>\n",
       "      <td>3</td>\n",
       "      <td>romaine lettuce leaf</td>\n",
       "      <td>20</td>\n",
       "      <td>lettuce</td>\n",
       "      <td>4507</td>\n",
       "      <td>4308</td>\n",
       "    </tr>\n",
       "    <tr>\n",
       "      <th>3</th>\n",
       "      <td>iceberg lettuce leaf</td>\n",
       "      <td>3</td>\n",
       "      <td>iceberg lettuce leaf</td>\n",
       "      <td>20</td>\n",
       "      <td>lettuce</td>\n",
       "      <td>4507</td>\n",
       "      <td>4308</td>\n",
       "    </tr>\n",
       "    <tr>\n",
       "      <th>4</th>\n",
       "      <td>red romaine lettuce</td>\n",
       "      <td>3</td>\n",
       "      <td>red romaine lettuce</td>\n",
       "      <td>19</td>\n",
       "      <td>lettuce</td>\n",
       "      <td>4507</td>\n",
       "      <td>4308</td>\n",
       "    </tr>\n",
       "  </tbody>\n",
       "</table>\n",
       "</div>"
      ],
      "text/plain": [
       "                                            raw_ingr  raw_words  \\\n",
       "0  medium heads bibb or red leaf lettuce, washed,...         13   \n",
       "1              mixed baby lettuces and spring greens          6   \n",
       "2                               romaine lettuce leaf          3   \n",
       "3                               iceberg lettuce leaf          3   \n",
       "4                                red romaine lettuce          3   \n",
       "\n",
       "                                           processed  len_proc replaced  \\\n",
       "0  medium heads bibb or red leaf lettuce, washed,...        73  lettuce   \n",
       "1               mixed baby lettuces and spring green        36  lettuce   \n",
       "2                               romaine lettuce leaf        20  lettuce   \n",
       "3                               iceberg lettuce leaf        20  lettuce   \n",
       "4                                red romaine lettuce        19  lettuce   \n",
       "\n",
       "   count    id  \n",
       "0   4507  4308  \n",
       "1   4507  4308  \n",
       "2   4507  4308  \n",
       "3   4507  4308  \n",
       "4   4507  4308  "
      ]
     },
     "execution_count": 110,
     "metadata": {},
     "output_type": "execute_result"
    }
   ],
   "source": [
    "# lots of rows that represent \"lettuce\", these all have the same id\n",
    "map_df.loc[map_df[\"raw_ingr\"].str.find(\"lettuce\") != -1].head()"
   ]
  },
  {
   "cell_type": "code",
   "execution_count": 95,
   "metadata": {},
   "outputs": [
    {
     "name": "stdout",
     "output_type": "stream",
     "text": [
      "found spaghetti in raw\n",
      "found olive oil in replaced\n",
      "found plum tomatoes in raw\n",
      "found garlic in replaced\n",
      "found mushrooms in raw\n",
      "found parsley in replaced\n",
      "found Salt in replaced\n",
      "found pepper in replaced\n"
     ]
    }
   ],
   "source": [
    "codes = []\n",
    "\n",
    "for label in res[\"ingredient_labels\"][0]:\n",
    "# for label in [\"plum tomatoes\"]:\n",
    "    replaced = map_df.loc[map_df[\"replaced\"] == label.lower()]\n",
    "    raw = map_df.loc[map_df[\"raw_ingr\"].str.find(label.lower()) != -1]\n",
    "    if replaced.shape[0] > 0:\n",
    "        print(f\"found {label} in replaced\")\n",
    "        code = replaced[\"id\"].value_counts().idxmax()\n",
    "        \n",
    "    elif raw.shape[0] > 0:\n",
    "        print(f\"found {label} in raw\")\n",
    "        code = raw[\"id\"].value_counts().idxmax()\n",
    "        \n",
    "    else:\n",
    "        print(f\"couldn't find {label}\")\n",
    "        code=-1\n",
    "    \n",
    "    codes.append(code)"
   ]
  },
  {
   "cell_type": "code",
   "execution_count": 97,
   "metadata": {},
   "outputs": [
    {
     "data": {
      "text/plain": [
       "[6711, 5006, 5519, 3184, 7856, 5185, 6270, 5319]"
      ]
     },
     "execution_count": 97,
     "metadata": {},
     "output_type": "execute_result"
    }
   ],
   "source": [
    "codes "
   ]
  },
  {
   "cell_type": "code",
   "execution_count": 98,
   "metadata": {},
   "outputs": [
    {
     "data": {
      "text/plain": [
       "8023"
      ]
     },
     "execution_count": 98,
     "metadata": {},
     "output_type": "execute_result"
    }
   ],
   "source": [
    "len(ingr_ids)"
   ]
  },
  {
   "cell_type": "code",
   "execution_count": 112,
   "metadata": {},
   "outputs": [],
   "source": [
    "# searches the \"replaced\" & \"raw\" columns in map_df & returns the code that most-frequently matches a \n",
    "#  given ingredient or -1 if there are no matches in either column; returns a list of codes for each\n",
    "#  recipes, nested in a list for for the whole batch\n",
    "test_batch = modeling.map_recipe_ingredients(res[\"ingredient_labels\"], map_df)"
   ]
  },
  {
   "cell_type": "code",
   "execution_count": 113,
   "metadata": {},
   "outputs": [
    {
     "data": {
      "text/plain": [
       "[[6711, 5006, 5519, 3184, 7856, 5185, 6270, 5319],\n",
       " [-1, 1573, 3532, 5006, 7856, 3184, 6819, 2320],\n",
       " [8021, 7856, 5010, 3184, 1101, 5519, -1, 3217],\n",
       " [1186, 5006, 590, 4096, 7979, 7856, 6324, 2131, 7233, 6754, 1910, 5180],\n",
       " [1078,\n",
       "  5006,\n",
       "  5010,\n",
       "  4863,\n",
       "  3440,\n",
       "  6581,\n",
       "  7213,\n",
       "  7545,\n",
       "  1909,\n",
       "  5185,\n",
       "  5205,\n",
       "  5648,\n",
       "  3198],\n",
       " [5006, 5010, -1, 4096, 3184, 6777, 7229, 2347, 5105, 5177, 7367, 5185],\n",
       " [2339, -1, 5006, 4096, 590, 1093, 7979, 3184, -1, 1747, 4836, 7276, 4987],\n",
       " [7367, -1, 3184, 2922, 5010, -1, 5724, 3668, 5180, 6270, 5319, 4145],\n",
       " [1573, 3532, 8003, -1, 6510, 7719, 7233, 3888, 1257, 6654, 5177],\n",
       " [-1, 7719, 6426, -1, 2882, 6270, 3532, 3294, 5205, 7655, 7229, 3184],\n",
       " [-1, 840, 254, 6447, 382, 5205, 4836],\n",
       " [-1, 1573, 3532, 5006, 7856, 3184, -1, 2320],\n",
       " [840, 7856, 6426, 7168, 7258, 7229, 84, 6696, 6444, 7550, 2416, 6270, 5319],\n",
       " [-1, 1043, 5351, 5177, 6933, -1, 4836, 6270, 590],\n",
       " [6754, 1908, 7258, 4836, 5731, 6085, 2499, 5180, 5205, 7233, 1786, 7892],\n",
       " [2339, 7655, -1, 3184, 2347, 5185, 5185, 2131, -1, 4096, 6711],\n",
       " [1257, 7229, 339, 6906, 6696, 6413, 1833, 2410],\n",
       " [7367, 63, 63, 7853, 7233, -1, 6270, 5319, 2922, 5010, 5724, 1747, 2694],\n",
       " [5519, 7719, 3184, 5006, 1573, 3532, 5591, 2007, 1795, 2320],\n",
       " [-1, 7979, 8021, 7719, 3184, 7230, 1573, 3532, 5106, 1747]]"
      ]
     },
     "execution_count": 113,
     "metadata": {},
     "output_type": "execute_result"
    }
   ],
   "source": [
    "test_batch"
   ]
  },
  {
   "cell_type": "markdown",
   "metadata": {},
   "source": [
    "### dummify ingredients & get prediction"
   ]
  },
  {
   "cell_type": "code",
   "execution_count": 114,
   "metadata": {},
   "outputs": [],
   "source": [
    "# dummifies the recipes to pass to the model\n",
    "def flag_ingredients(ingreds: list[list[int]], map_df: pd.DataFrame):\n",
    "    flagged_recipes = []\n",
    "    # iterate through the list of recipe ingredient ids\n",
    "    for ing_list in ingreds:\n",
    "        # iterate through the list of unique ids from mapper\n",
    "        recipe_row = []\n",
    "        for id_col in map_df[\"id\"].unique():\n",
    "            flag = 1 if id_col in ing_list else 0\n",
    "            recipe_row.append(flag)\n",
    "        flagged_recipes.append(recipe_row)\n",
    "    \n",
    "    return pd.DataFrame(flagged_recipes)"
   ]
  },
  {
   "cell_type": "code",
   "execution_count": 115,
   "metadata": {},
   "outputs": [],
   "source": [
    "batch_to_predict = flag_ingredients(test_batch, map_df)"
   ]
  },
  {
   "cell_type": "code",
   "execution_count": 116,
   "metadata": {},
   "outputs": [
    {
     "data": {
      "text/plain": [
       "(20, 8023)"
      ]
     },
     "execution_count": 116,
     "metadata": {},
     "output_type": "execute_result"
    }
   ],
   "source": [
    "# rows = numbeer or recipes, columns = 8023 ingredients\n",
    "batch_to_predict.shape"
   ]
  },
  {
   "cell_type": "code",
   "execution_count": 117,
   "metadata": {},
   "outputs": [
    {
     "data": {
      "text/plain": [
       "array([ 1, 10,  7, 10, 10, 10, 10,  1,  9,  8,  3, 10,  1,  8,  5,  9,  9,\n",
       "        1, 10,  9], dtype=int32)"
      ]
     },
     "execution_count": 117,
     "metadata": {},
     "output_type": "execute_result"
    }
   ],
   "source": [
    "km.predict(batch_to_predict)"
   ]
  },
  {
   "cell_type": "markdown",
   "metadata": {},
   "source": [
    "### observations about the prediction\n",
    "- looking at the most frequent cluster assigned (cluster 10), check out recipes from the original food.com data that were placed in the same cluster\n",
    "- check out the recipes titles from the Edamam API that were assigned to cluster 10 and the ones that were not\n",
    "- check out the ingredients in the API recipes that were assigned to cluster 10 and those that were assigned to other clusters"
   ]
  },
  {
   "cell_type": "code",
   "execution_count": 124,
   "metadata": {},
   "outputs": [],
   "source": [
    "# looks like cluster 10 appears most often in that batch\n",
    "cluster_10 = labeled_recipes.loc[labeled_recipes[\"cluster\"] == 10]"
   ]
  },
  {
   "cell_type": "code",
   "execution_count": 125,
   "metadata": {},
   "outputs": [
    {
     "data": {
      "text/html": [
       "<div>\n",
       "<style scoped>\n",
       "    .dataframe tbody tr th:only-of-type {\n",
       "        vertical-align: middle;\n",
       "    }\n",
       "\n",
       "    .dataframe tbody tr th {\n",
       "        vertical-align: top;\n",
       "    }\n",
       "\n",
       "    .dataframe thead th {\n",
       "        text-align: right;\n",
       "    }\n",
       "</style>\n",
       "<table border=\"1\" class=\"dataframe\">\n",
       "  <thead>\n",
       "    <tr style=\"text-align: right;\">\n",
       "      <th></th>\n",
       "      <th>name</th>\n",
       "      <th>ingredients</th>\n",
       "    </tr>\n",
       "  </thead>\n",
       "  <tbody>\n",
       "    <tr>\n",
       "      <th>13</th>\n",
       "      <td>sommer s chicken spaghetti</td>\n",
       "      <td>[chicken breast, spaghetti sauce, garlic, oliv...</td>\n",
       "    </tr>\n",
       "    <tr>\n",
       "      <th>34</th>\n",
       "      <td>italian style spinach</td>\n",
       "      <td>[bacon, olive oil, onion, garlic, spinach leav...</td>\n",
       "    </tr>\n",
       "    <tr>\n",
       "      <th>41</th>\n",
       "      <td>onion soup with parmigiano and cracked pepper</td>\n",
       "      <td>[butter, olive oil, onions, coarse salt, chick...</td>\n",
       "    </tr>\n",
       "    <tr>\n",
       "      <th>42</th>\n",
       "      <td>green and gold peas with pasta</td>\n",
       "      <td>[orecchiette, bacon, onion, frozen peas, garba...</td>\n",
       "    </tr>\n",
       "    <tr>\n",
       "      <th>44</th>\n",
       "      <td>linguine with wild mushroom alfredo</td>\n",
       "      <td>[linguine, olive oil, dry white wine, button m...</td>\n",
       "    </tr>\n",
       "    <tr>\n",
       "      <th>70</th>\n",
       "      <td>roast beetroot and garlic dip</td>\n",
       "      <td>[beetroot, garlic, ground coriander, ground cu...</td>\n",
       "    </tr>\n",
       "    <tr>\n",
       "      <th>90</th>\n",
       "      <td>bbq bat wings</td>\n",
       "      <td>[ketchup, balsamic vinegar, dark brown sugar, ...</td>\n",
       "    </tr>\n",
       "    <tr>\n",
       "      <th>101</th>\n",
       "      <td>tuscan lemon chicken  skillet or grill</td>\n",
       "      <td>[whole chickens, kosher salt, olive oil, lemon...</td>\n",
       "    </tr>\n",
       "    <tr>\n",
       "      <th>105</th>\n",
       "      <td>easy chilli beans</td>\n",
       "      <td>[olive oil, onion, red kidney beans, chopped t...</td>\n",
       "    </tr>\n",
       "    <tr>\n",
       "      <th>113</th>\n",
       "      <td>roasted cod with prosciutto  cherry tomatoes a...</td>\n",
       "      <td>[cherry tomatoes, pitted black olives, capers,...</td>\n",
       "    </tr>\n",
       "  </tbody>\n",
       "</table>\n",
       "</div>"
      ],
      "text/plain": [
       "                                                  name  \\\n",
       "13                          sommer s chicken spaghetti   \n",
       "34                               italian style spinach   \n",
       "41       onion soup with parmigiano and cracked pepper   \n",
       "42                      green and gold peas with pasta   \n",
       "44                 linguine with wild mushroom alfredo   \n",
       "70                       roast beetroot and garlic dip   \n",
       "90                                       bbq bat wings   \n",
       "101             tuscan lemon chicken  skillet or grill   \n",
       "105                                  easy chilli beans   \n",
       "113  roasted cod with prosciutto  cherry tomatoes a...   \n",
       "\n",
       "                                           ingredients  \n",
       "13   [chicken breast, spaghetti sauce, garlic, oliv...  \n",
       "34   [bacon, olive oil, onion, garlic, spinach leav...  \n",
       "41   [butter, olive oil, onions, coarse salt, chick...  \n",
       "42   [orecchiette, bacon, onion, frozen peas, garba...  \n",
       "44   [linguine, olive oil, dry white wine, button m...  \n",
       "70   [beetroot, garlic, ground coriander, ground cu...  \n",
       "90   [ketchup, balsamic vinegar, dark brown sugar, ...  \n",
       "101  [whole chickens, kosher salt, olive oil, lemon...  \n",
       "105  [olive oil, onion, red kidney beans, chopped t...  \n",
       "113  [cherry tomatoes, pitted black olives, capers,...  "
      ]
     },
     "execution_count": 125,
     "metadata": {},
     "output_type": "execute_result"
    }
   ],
   "source": [
    "cluster_10[[\"name\", \"ingredients\"]].head(10)"
   ]
  },
  {
   "cell_type": "code",
   "execution_count": 137,
   "metadata": {},
   "outputs": [
    {
     "data": {
      "text/plain": [
       "array([ 1,  3,  4,  5,  6, 11, 18])"
      ]
     },
     "execution_count": 137,
     "metadata": {},
     "output_type": "execute_result"
    }
   ],
   "source": [
    "# np.where returns a tuple but I only want the first element\n",
    "res_10 = np.where(km.predict(batch_to_predict) == 10)[0]\n",
    "res_10"
   ]
  },
  {
   "cell_type": "code",
   "execution_count": 143,
   "metadata": {},
   "outputs": [
    {
     "data": {
      "text/plain": [
       "['Chicken with Tomatoes and Mushrooms',\n",
       " 'Tomato and Sausage Tortellini',\n",
       " 'Mushrooms paprikash',\n",
       " 'Pasta With Lentils and Mushrooms',\n",
       " 'Rigatoni with Mushroom Ragu, Fresh Mozzarella, and Truffle Recipe',\n",
       " 'Chicken with Tomatoes and Mushrooms',\n",
       " 'Roast Pork Loin With Mushrooms and Tomatoes']"
      ]
     },
     "execution_count": 143,
     "metadata": {},
     "output_type": "execute_result"
    }
   ],
   "source": [
    "# show the names of the recipes that the model put into cluster 10\n",
    "[ title for index, title in enumerate(res[\"title\"]) if index in res_10 ]"
   ]
  },
  {
   "cell_type": "code",
   "execution_count": 144,
   "metadata": {},
   "outputs": [
    {
     "data": {
      "text/plain": [
       "['Dinner Tonight: Spaghetti alla Boscaiola (Spaghetti with Tomato Sauce and Mushrooms) Recipe',\n",
       " 'Zucchini Cannelloni with Cashew sauce',\n",
       " 'Pasta Frittata With Mushrooms',\n",
       " 'Beef and Tomato Stroganoff',\n",
       " 'Baked Tomato, Mushroom & Goat Cheese Pasta',\n",
       " 'Mushroom & aubergine pizza pie',\n",
       " 'Lentil Mushroom Stew',\n",
       " 'Grilled Stuffed Portobello Mushrooms',\n",
       " 'Pesto Lasagna with Spinach and Mushrooms',\n",
       " 'Roman-Style Spaghetti Alla Carrettiera (Tomato, Tuna, and Mushroom Pasta) Recipe',\n",
       " 'Sichuan-Style Tofu with Mushrooms',\n",
       " 'Baked Rigatoni With Mushrooms And Prosciutto',\n",
       " 'Rigatoni with Chunky Vegetable Sauce']"
      ]
     },
     "execution_count": 144,
     "metadata": {},
     "output_type": "execute_result"
    }
   ],
   "source": [
    "# show the names of the recipes that the model DID NOT put into cluster 10\n",
    "[ title for index, title in enumerate(res[\"title\"]) if index not in res_10 ]"
   ]
  },
  {
   "cell_type": "code",
   "execution_count": 145,
   "metadata": {},
   "outputs": [],
   "source": [
    "ingreds_10 = [ ingreds for index, ingreds in enumerate(res[\"ingredient_labels\"]) if index in res_10]\n",
    "ingreds_other = [ ingreds for index, ingreds in enumerate(res[\"ingredient_labels\"]) if index not in res_10]"
   ]
  },
  {
   "cell_type": "code",
   "execution_count": 150,
   "metadata": {},
   "outputs": [
    {
     "data": {
      "text/plain": [
       "dict_keys(['boneless, skinless chicken breast', 'Coarse salt', 'ground pepper', 'olive oil', 'mushrooms', 'garlic', 'stewed tomatoes', 'dried oregano', 'cheese tortellini', 'black pepper', 'kosher salt', 'yellow onion', 'chicken sausage', 'diced tomatoes', 'tomato sauce', 'spinach', 'cream cheese', 'parmesan cheese', 'caraway seed', 'onion', 'mushroom', 'green pepper', 'smoked paprika', 'tomato', 'vegetable', 'cream', 'parsley', 'pasta', 'potato', 'garlic bread', 'crimini mushrooms', 'lentils', 'tomato paste', 'red pepper flakes', 'orecchiette', 'Parmesan', 'unsalted butter', 'dried porcini mushrooms', 'Portobello mushrooms', 'Kosher salt', 'carrot', 'tomato basil sauce', 'rigatoni', 'mozzarella', 'Truffle', 'oil', 'can stewed tomatoes', 'plum tomatoes', 'button mushrooms', 'boneless pork loin', 'cumin', 'coriander'])"
      ]
     },
     "execution_count": 150,
     "metadata": {},
     "output_type": "execute_result"
    }
   ],
   "source": [
    "ingreds_10_dict = {}\n",
    "\n",
    "for l in ingreds_10:\n",
    "    for ing in l:\n",
    "        if ing in ingreds_10_dict:\n",
    "            ingreds_10_dict[ing] += 1\n",
    "        else:\n",
    "            ingreds_10_dict[ing] = 1\n",
    "            \n",
    "ingreds_10_dict.keys()"
   ]
  },
  {
   "cell_type": "code",
   "execution_count": 151,
   "metadata": {},
   "outputs": [
    {
     "data": {
      "text/plain": [
       "dict_keys(['spaghetti', 'olive oil', 'plum tomatoes', 'garlic', 'mushrooms', 'parsley', 'Salt', 'pepper', 'zucchini', 'onion', 'cashew nuts', 'plum tomato', 'nutritional yeasts', 'garlic powder', 'unsalted butter', 'extra-virgin olive oil', 'white mushrooms', 'leftover spaghetti', 'prosciutto', 'heavy cream', 'Parmesan cheese', 'eggs', 'Coarse salt', 'ground pepper', 'wide egg noodles', 'sirloin steak', 'button mushrooms', 'tomato sauce', 'Potatoes', 'low-sodium chicken broth', 'sour cream', 'Parmesan', 'cherry or grape tomatoes', 'shallots', 'fresh sage', 'salt', 'goat cheese', 'pasta', 'water', 'tomato paste', 'ciabatta bread mix', 'butter', 'aubergine', 'shiitake mushroom', 'basil', 'pasta sauce', 'mozzarella', 'thyme', 'flour', 'almond milk', 'soy sauce', 'sherry', 'vegetable broth', 'green lentils', 'portobello mushrooms', 'canola oil', 'pesto sauce', 'sun-dried tomatoes', 'panko bread crumbs', 'mozzarella cheese', 'black pepper', 'spinach', 'cremini mushrooms', 'pesto', 'provolone cheese', 'ricotta cheese', 'egg', 'Cooking spray', 'lasagna noodles', 'dried porcini mushrooms', 'red pepper flakes', 'tomatoes', 'olive oil-packed tuna', 'Kosher salt', 'reduced-sodium chicken broth', 'balsamic vinegar', 'sugar', 'reduced-sodium soy sauce', 'sesame oil', 'cornstarch', 'crushed red pepper', 'all-purpose flour', 'whole milk', 'grated nutmeg', 'rigatoni', 'Fontina cheese', 'yellow onion', 'tomato puree', 'oregano'])"
      ]
     },
     "execution_count": 151,
     "metadata": {},
     "output_type": "execute_result"
    }
   ],
   "source": [
    "ingreds_other_dict = {}\n",
    "\n",
    "for l in ingreds_other:\n",
    "    for ing in l:\n",
    "        if ing in ingreds_other_dict:\n",
    "            ingreds_other_dict[ing] += 1\n",
    "        else:\n",
    "            ingreds_other_dict[ing] = 1\n",
    "            \n",
    "ingreds_other_dict.keys()"
   ]
  },
  {
   "cell_type": "markdown",
   "metadata": {},
   "source": [
    "- not sure this cluster assignment is particularly reasonable or unreasonable, more to do on this"
   ]
  }
 ],
 "metadata": {
  "kernelspec": {
   "display_name": "capstone",
   "language": "python",
   "name": "python3"
  },
  "language_info": {
   "codemirror_mode": {
    "name": "ipython",
    "version": 3
   },
   "file_extension": ".py",
   "mimetype": "text/x-python",
   "name": "python",
   "nbconvert_exporter": "python",
   "pygments_lexer": "ipython3",
   "version": "3.12.1"
  }
 },
 "nbformat": 4,
 "nbformat_minor": 2
}
