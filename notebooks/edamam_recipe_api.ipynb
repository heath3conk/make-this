{
 "cells": [
  {
   "cell_type": "markdown",
   "metadata": {},
   "source": [
    "# Edamam API\n",
    "- goal is to be able to pass some ingredients to the API & get back recipes\n",
    "- their [swagger docs](https://developer.edamam.com/edamam-docs-recipe-api)\n",
    "\n",
    "## what's in this notebook:\n",
    "- hit \"recipe search\" endpoint\n",
    "- build useful recipe object"
   ]
  },
  {
   "cell_type": "code",
   "execution_count": 1,
   "metadata": {},
   "outputs": [],
   "source": [
    "import json\n",
    "import requests\n",
    "\n",
    "import pandas as pd"
   ]
  },
  {
   "cell_type": "markdown",
   "metadata": {},
   "source": [
    "## hit \"recipe search\" endpoint"
   ]
  },
  {
   "cell_type": "code",
   "execution_count": 2,
   "metadata": {},
   "outputs": [],
   "source": [
    "# fetch api key from secrets.json file\n",
    "with open(\"secrets.json\", \"rb\") as f:\n",
    "    key_file = json.loads(f.read())\n",
    "\n",
    "app_id = key_file[\"app_id\"]\n",
    "app_key = key_file[\"key\"]"
   ]
  },
  {
   "cell_type": "markdown",
   "metadata": {},
   "source": [
    "- [sample reponse](/sample_response.json) from edamam \"get recipes\" endpoint with \"q=cherry tomatoes, sourdough bread\" and \"ingr=3-7\""
   ]
  },
  {
   "cell_type": "markdown",
   "metadata": {},
   "source": [
    "## build useful recipe object"
   ]
  },
  {
   "cell_type": "code",
   "execution_count": 3,
   "metadata": {},
   "outputs": [],
   "source": [
    "def get_recipes(ingr: list[str], num_ingr: tuple[int, int], dish: str, meal: str, app_id: str, app_key: str):\n",
    "    recipes_endpoint = \"https://api.edamam.com/api/recipes/v2?type=public\"\n",
    "    ingredients = f\"q={'%2C%20'.join(ingr)}\"  # TODO: handle empty `ingr` list\n",
    "    min_max_ingr = f\"ingr={min(num_ingr)}-{max(num_ingr)}\"  # TODO: handle empty or single-element `num_ingr`\n",
    "    dish_type=f\"dishType={dish}\"  # TODO: set default `dish`?\n",
    "    meal_type = f\"mealType={meal}\"  # TODO: set default `meal`?\n",
    "    full_url = f\"{recipes_endpoint}&{ingredients}&{min_max_ingr}&{dish_type}&app_id={app_id}&app_key={app_key}\"\n",
    "    response = requests.get(full_url)\n",
    "    data = response.json()\n",
    "    print(response.status_code)\n",
    "    \n",
    "    if response.status_code == 200 and data[\"count\"] > 0:\n",
    "        items = []\n",
    "        for item in data[\"hits\"]:\n",
    "            recipe_dict = {}\n",
    "            recipe_dict[\"title\"] = item[\"recipe\"][\"label\"]\n",
    "            recipe_dict[\"link\"] = item[\"recipe\"][\"url\"]\n",
    "            recipe_dict[\"servings\"] = item[\"recipe\"][\"yield\"]\n",
    "            recipe_dict[\"cuisine\"] = item[\"recipe\"][\"cuisineType\"]\n",
    "            recipe_dict[\"diet_labels\"] = item[\"recipe\"][\"dietLabels\"]\n",
    "            recipe_dict[\"healh_labels\"] = item[\"recipe\"][\"healthLabels\"]\n",
    "            recipe_dict[\"cautions\"] = item[\"recipe\"][\"cautions\"]\n",
    "            recipe_dict[\"ingredient_lines\"] = item[\"recipe\"][\"ingredientLines\"]\n",
    "            \n",
    "            ingreds = []\n",
    "            for ingr in item[\"recipe\"][\"ingredients\"]:\n",
    "                ingredient_details = {}\n",
    "                ingredient_details[\"text\"] = ingr[\"text\"]\n",
    "                ingredient_details[\"quantity\"] = ingr[\"quantity\"]\n",
    "                ingredient_details[\"measure\"] = ingr[\"measure\"]\n",
    "                ingredient_details[\"weight\"] = ingr[\"weight\"]\n",
    "                ingredient_details[\"food\"] = ingr[\"food\"]\n",
    "                ingredient_details[\"food_category\"] = ingr[\"foodCategory\"]\n",
    "                ingreds.append(ingredient_details)\n",
    "                recipe_dict[\"ingredient_details\"] = ingreds\n",
    "            items.append(recipe_dict)\n",
    "        \n",
    "    return pd.DataFrame.from_dict(items)\n",
    "\n",
    "    "
   ]
  },
  {
   "cell_type": "markdown",
   "metadata": {},
   "source": [
    "From the Edamam docs:\n",
    "\n",
    "| dishType options | mealType options |\n",
    "| --- | --- |\n",
    "| Biscuits and cookies, Bread, Cereal, Condiments and sauces, Desserts, Drinks,  Main course, Pancake, Preps, Preserve, Salad, Sandwiches, Soup, Starter, Sweets | Breakfast, Dinner, Lunch, Snack, Teatime |"
   ]
  },
  {
   "cell_type": "code",
   "execution_count": 4,
   "metadata": {},
   "outputs": [],
   "source": [
    "test_ingr = [\"cherry%20tomatoes\", \"sourdough%20bread\"]\n",
    "test_min_max = (3,7)\n",
    "test_dish = \"Main%20course\"\n",
    "test_meal = \"Breakfast\""
   ]
  },
  {
   "cell_type": "code",
   "execution_count": 5,
   "metadata": {},
   "outputs": [
    {
     "name": "stdout",
     "output_type": "stream",
     "text": [
      "200\n"
     ]
    }
   ],
   "source": [
    "df = get_recipes(ingr=test_ingr, num_ingr=test_min_max, dish=test_dish, meal=test_meal, app_id=app_id, app_key=app_key)"
   ]
  },
  {
   "cell_type": "code",
   "execution_count": 6,
   "metadata": {},
   "outputs": [
    {
     "data": {
      "text/plain": [
       "Index(['title', 'link', 'servings', 'cuisine', 'diet_labels', 'healh_labels',\n",
       "       'cautions', 'ingredient_lines', 'ingredient_details'],\n",
       "      dtype='object')"
      ]
     },
     "execution_count": 6,
     "metadata": {},
     "output_type": "execute_result"
    }
   ],
   "source": [
    "df.columns"
   ]
  },
  {
   "cell_type": "code",
   "execution_count": 7,
   "metadata": {},
   "outputs": [
    {
     "data": {
      "text/plain": [
       "0    [{'text': '* 8 to 12 cherry tomato, depending ...\n",
       "1    [{'text': '2 Count thick cut slices sourdough ...\n",
       "2    [{'text': '2 cherry tomatoes or 1 roma tomato,...\n",
       "3    [{'text': '6 eggs', 'quantity': 6.0, 'measure'...\n",
       "4    [{'text': '5 cherry tomatoes', 'quantity': 5.0...\n",
       "Name: ingredient_details, dtype: object"
      ]
     },
     "execution_count": 7,
     "metadata": {},
     "output_type": "execute_result"
    }
   ],
   "source": [
    "df[\"ingredient_details\"].head()"
   ]
  }
 ],
 "metadata": {
  "kernelspec": {
   "display_name": "capstone",
   "language": "python",
   "name": "python3"
  },
  "language_info": {
   "codemirror_mode": {
    "name": "ipython",
    "version": 3
   },
   "file_extension": ".py",
   "mimetype": "text/x-python",
   "name": "python",
   "nbconvert_exporter": "python",
   "pygments_lexer": "ipython3",
   "version": "3.12.1"
  }
 },
 "nbformat": 4,
 "nbformat_minor": 2
}
